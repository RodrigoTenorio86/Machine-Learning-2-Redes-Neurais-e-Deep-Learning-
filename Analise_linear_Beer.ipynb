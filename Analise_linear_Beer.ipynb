{
  "nbformat": 4,
  "nbformat_minor": 0,
  "metadata": {
    "colab": {
      "name": "Analise_linear_Beer.ipynb",
      "provenance": [],
      "authorship_tag": "ABX9TyPPr1MvpkS2XIxH/OF45E8t",
      "include_colab_link": true
    },
    "kernelspec": {
      "name": "python3",
      "display_name": "Python 3"
    }
  },
  "cells": [
    {
      "cell_type": "markdown",
      "metadata": {
        "id": "view-in-github",
        "colab_type": "text"
      },
      "source": [
        "<a href=\"https://colab.research.google.com/github/RodrigoTenorio86/Machine-Learning-2-Redes-Neurais-e-Deep-Learning-/blob/master/Analise_linear_Beer.ipynb\" target=\"_parent\"><img src=\"https://colab.research.google.com/assets/colab-badge.svg\" alt=\"Open In Colab\"/></a>"
      ]
    },
    {
      "cell_type": "code",
      "metadata": {
        "id": "Qwy4QpitkSX9",
        "colab_type": "code",
        "colab": {}
      },
      "source": [
        "# Processo de Modelagem"
      ],
      "execution_count": 0,
      "outputs": []
    },
    {
      "cell_type": "code",
      "metadata": {
        "id": "SqVu15ujkYp0",
        "colab_type": "code",
        "colab": {}
      },
      "source": [
        "import numpy as np\n",
        "import pandas as pd\n",
        "# Analise Graficas\n",
        "\n",
        "import seaborn as sns\n",
        "import matplotlib.pyplot as plt\n",
        "\n",
        "%matplotlib inline\n",
        "\n",
        "plt.style.use('seaborn')"
      ],
      "execution_count": 0,
      "outputs": []
    },
    {
      "cell_type": "code",
      "metadata": {
        "id": "Vilw8Gp0m1r0",
        "colab_type": "code",
        "outputId": "fe4bd0d3-4b74-44d2-d837-07b90a5bbd67",
        "colab": {
          "base_uri": "https://localhost:8080/",
          "height": 204
        }
      },
      "source": [
        "cerveja = pd.read_excel(\"/content/beer_consumption.xlsx\")\n",
        "cerveja.head()"
      ],
      "execution_count": 3,
      "outputs": [
        {
          "output_type": "execute_result",
          "data": {
            "text/html": [
              "<div>\n",
              "<style scoped>\n",
              "    .dataframe tbody tr th:only-of-type {\n",
              "        vertical-align: middle;\n",
              "    }\n",
              "\n",
              "    .dataframe tbody tr th {\n",
              "        vertical-align: top;\n",
              "    }\n",
              "\n",
              "    .dataframe thead th {\n",
              "        text-align: right;\n",
              "    }\n",
              "</style>\n",
              "<table border=\"1\" class=\"dataframe\">\n",
              "  <thead>\n",
              "    <tr style=\"text-align: right;\">\n",
              "      <th></th>\n",
              "      <th>data</th>\n",
              "      <th>temp_avg</th>\n",
              "      <th>temp_min</th>\n",
              "      <th>temp_max</th>\n",
              "      <th>precip</th>\n",
              "      <th>weekend</th>\n",
              "      <th>beer_consumption</th>\n",
              "    </tr>\n",
              "  </thead>\n",
              "  <tbody>\n",
              "    <tr>\n",
              "      <th>0</th>\n",
              "      <td>2015-01-01</td>\n",
              "      <td>27.30</td>\n",
              "      <td>23.9</td>\n",
              "      <td>32.5</td>\n",
              "      <td>0.0</td>\n",
              "      <td>False</td>\n",
              "      <td>25461</td>\n",
              "    </tr>\n",
              "    <tr>\n",
              "      <th>1</th>\n",
              "      <td>2015-01-02</td>\n",
              "      <td>27.02</td>\n",
              "      <td>24.5</td>\n",
              "      <td>33.5</td>\n",
              "      <td>0.0</td>\n",
              "      <td>False</td>\n",
              "      <td>28972</td>\n",
              "    </tr>\n",
              "    <tr>\n",
              "      <th>2</th>\n",
              "      <td>2015-01-03</td>\n",
              "      <td>24.82</td>\n",
              "      <td>22.4</td>\n",
              "      <td>29.9</td>\n",
              "      <td>0.0</td>\n",
              "      <td>True</td>\n",
              "      <td>30814</td>\n",
              "    </tr>\n",
              "    <tr>\n",
              "      <th>3</th>\n",
              "      <td>2015-01-04</td>\n",
              "      <td>23.98</td>\n",
              "      <td>21.5</td>\n",
              "      <td>28.6</td>\n",
              "      <td>1.2</td>\n",
              "      <td>True</td>\n",
              "      <td>29799</td>\n",
              "    </tr>\n",
              "    <tr>\n",
              "      <th>4</th>\n",
              "      <td>2015-01-05</td>\n",
              "      <td>23.82</td>\n",
              "      <td>21.0</td>\n",
              "      <td>28.3</td>\n",
              "      <td>0.0</td>\n",
              "      <td>False</td>\n",
              "      <td>28900</td>\n",
              "    </tr>\n",
              "  </tbody>\n",
              "</table>\n",
              "</div>"
            ],
            "text/plain": [
              "        data  temp_avg  temp_min  temp_max  precip weekend  beer_consumption\n",
              "0 2015-01-01     27.30      23.9      32.5     0.0   False             25461\n",
              "1 2015-01-02     27.02      24.5      33.5     0.0   False             28972\n",
              "2 2015-01-03     24.82      22.4      29.9     0.0    True             30814\n",
              "3 2015-01-04     23.98      21.5      28.6     1.2    True             29799\n",
              "4 2015-01-05     23.82      21.0      28.3     0.0   False             28900"
            ]
          },
          "metadata": {
            "tags": []
          },
          "execution_count": 3
        }
      ]
    },
    {
      "cell_type": "code",
      "metadata": {
        "id": "cmF38xHlnBsk",
        "colab_type": "code",
        "outputId": "b5b3e291-90e6-4045-c2e1-9c74c6fcf28a",
        "colab": {
          "base_uri": "https://localhost:8080/",
          "height": 297
        }
      },
      "source": [
        "cerveja.describe()"
      ],
      "execution_count": 4,
      "outputs": [
        {
          "output_type": "execute_result",
          "data": {
            "text/html": [
              "<div>\n",
              "<style scoped>\n",
              "    .dataframe tbody tr th:only-of-type {\n",
              "        vertical-align: middle;\n",
              "    }\n",
              "\n",
              "    .dataframe tbody tr th {\n",
              "        vertical-align: top;\n",
              "    }\n",
              "\n",
              "    .dataframe thead th {\n",
              "        text-align: right;\n",
              "    }\n",
              "</style>\n",
              "<table border=\"1\" class=\"dataframe\">\n",
              "  <thead>\n",
              "    <tr style=\"text-align: right;\">\n",
              "      <th></th>\n",
              "      <th>temp_avg</th>\n",
              "      <th>temp_min</th>\n",
              "      <th>temp_max</th>\n",
              "      <th>precip</th>\n",
              "      <th>beer_consumption</th>\n",
              "    </tr>\n",
              "  </thead>\n",
              "  <tbody>\n",
              "    <tr>\n",
              "      <th>count</th>\n",
              "      <td>361.000000</td>\n",
              "      <td>363.000000</td>\n",
              "      <td>362.000000</td>\n",
              "      <td>365.000000</td>\n",
              "      <td>365.000000</td>\n",
              "    </tr>\n",
              "    <tr>\n",
              "      <th>mean</th>\n",
              "      <td>21.101385</td>\n",
              "      <td>17.396970</td>\n",
              "      <td>26.480663</td>\n",
              "      <td>5.196712</td>\n",
              "      <td>25401.367123</td>\n",
              "    </tr>\n",
              "    <tr>\n",
              "      <th>std</th>\n",
              "      <td>3.546618</td>\n",
              "      <td>2.969405</td>\n",
              "      <td>4.758531</td>\n",
              "      <td>12.417844</td>\n",
              "      <td>4399.142703</td>\n",
              "    </tr>\n",
              "    <tr>\n",
              "      <th>min</th>\n",
              "      <td>0.000000</td>\n",
              "      <td>0.000000</td>\n",
              "      <td>0.000000</td>\n",
              "      <td>0.000000</td>\n",
              "      <td>14343.000000</td>\n",
              "    </tr>\n",
              "    <tr>\n",
              "      <th>25%</th>\n",
              "      <td>18.920000</td>\n",
              "      <td>15.200000</td>\n",
              "      <td>23.725000</td>\n",
              "      <td>0.000000</td>\n",
              "      <td>22008.000000</td>\n",
              "    </tr>\n",
              "    <tr>\n",
              "      <th>50%</th>\n",
              "      <td>21.360000</td>\n",
              "      <td>17.900000</td>\n",
              "      <td>26.900000</td>\n",
              "      <td>0.000000</td>\n",
              "      <td>24867.000000</td>\n",
              "    </tr>\n",
              "    <tr>\n",
              "      <th>75%</th>\n",
              "      <td>23.280000</td>\n",
              "      <td>19.550000</td>\n",
              "      <td>29.400000</td>\n",
              "      <td>3.200000</td>\n",
              "      <td>28631.000000</td>\n",
              "    </tr>\n",
              "    <tr>\n",
              "      <th>max</th>\n",
              "      <td>28.860000</td>\n",
              "      <td>24.500000</td>\n",
              "      <td>36.500000</td>\n",
              "      <td>94.800000</td>\n",
              "      <td>37937.000000</td>\n",
              "    </tr>\n",
              "  </tbody>\n",
              "</table>\n",
              "</div>"
            ],
            "text/plain": [
              "         temp_avg    temp_min    temp_max      precip  beer_consumption\n",
              "count  361.000000  363.000000  362.000000  365.000000        365.000000\n",
              "mean    21.101385   17.396970   26.480663    5.196712      25401.367123\n",
              "std      3.546618    2.969405    4.758531   12.417844       4399.142703\n",
              "min      0.000000    0.000000    0.000000    0.000000      14343.000000\n",
              "25%     18.920000   15.200000   23.725000    0.000000      22008.000000\n",
              "50%     21.360000   17.900000   26.900000    0.000000      24867.000000\n",
              "75%     23.280000   19.550000   29.400000    3.200000      28631.000000\n",
              "max     28.860000   24.500000   36.500000   94.800000      37937.000000"
            ]
          },
          "metadata": {
            "tags": []
          },
          "execution_count": 4
        }
      ]
    },
    {
      "cell_type": "code",
      "metadata": {
        "id": "hS_Mf1S9nffX",
        "colab_type": "code",
        "outputId": "341d3be4-245f-4b3d-e68c-f3a3a5bd1297",
        "colab": {
          "base_uri": "https://localhost:8080/",
          "height": 153
        }
      },
      "source": [
        "cerveja.count()"
      ],
      "execution_count": 5,
      "outputs": [
        {
          "output_type": "execute_result",
          "data": {
            "text/plain": [
              "data                365\n",
              "temp_avg            361\n",
              "temp_min            363\n",
              "temp_max            362\n",
              "precip              365\n",
              "weekend             363\n",
              "beer_consumption    365\n",
              "dtype: int64"
            ]
          },
          "metadata": {
            "tags": []
          },
          "execution_count": 5
        }
      ]
    },
    {
      "cell_type": "code",
      "metadata": {
        "id": "j6klgsh0nmud",
        "colab_type": "code",
        "outputId": "983bf4f6-e89b-45c3-c34d-ba4450c4b4cc",
        "colab": {
          "base_uri": "https://localhost:8080/",
          "height": 206
        }
      },
      "source": [
        "cerveja.corr()"
      ],
      "execution_count": 0,
      "outputs": [
        {
          "output_type": "execute_result",
          "data": {
            "text/html": [
              "<div>\n",
              "<style scoped>\n",
              "    .dataframe tbody tr th:only-of-type {\n",
              "        vertical-align: middle;\n",
              "    }\n",
              "\n",
              "    .dataframe tbody tr th {\n",
              "        vertical-align: top;\n",
              "    }\n",
              "\n",
              "    .dataframe thead th {\n",
              "        text-align: right;\n",
              "    }\n",
              "</style>\n",
              "<table border=\"1\" class=\"dataframe\">\n",
              "  <thead>\n",
              "    <tr style=\"text-align: right;\">\n",
              "      <th></th>\n",
              "      <th>temp_avg</th>\n",
              "      <th>temp_min</th>\n",
              "      <th>temp_max</th>\n",
              "      <th>precip</th>\n",
              "      <th>beer_consumption</th>\n",
              "    </tr>\n",
              "  </thead>\n",
              "  <tbody>\n",
              "    <tr>\n",
              "      <th>temp_avg</th>\n",
              "      <td>1.000000</td>\n",
              "      <td>0.678633</td>\n",
              "      <td>0.735339</td>\n",
              "      <td>0.026834</td>\n",
              "      <td>0.503227</td>\n",
              "    </tr>\n",
              "    <tr>\n",
              "      <th>temp_min</th>\n",
              "      <td>0.678633</td>\n",
              "      <td>1.000000</td>\n",
              "      <td>0.531704</td>\n",
              "      <td>0.094701</td>\n",
              "      <td>0.345033</td>\n",
              "    </tr>\n",
              "    <tr>\n",
              "      <th>temp_max</th>\n",
              "      <td>0.735339</td>\n",
              "      <td>0.531704</td>\n",
              "      <td>1.000000</td>\n",
              "      <td>-0.071084</td>\n",
              "      <td>0.587027</td>\n",
              "    </tr>\n",
              "    <tr>\n",
              "      <th>precip</th>\n",
              "      <td>0.026834</td>\n",
              "      <td>0.094701</td>\n",
              "      <td>-0.071084</td>\n",
              "      <td>1.000000</td>\n",
              "      <td>-0.193784</td>\n",
              "    </tr>\n",
              "    <tr>\n",
              "      <th>beer_consumption</th>\n",
              "      <td>0.503227</td>\n",
              "      <td>0.345033</td>\n",
              "      <td>0.587027</td>\n",
              "      <td>-0.193784</td>\n",
              "      <td>1.000000</td>\n",
              "    </tr>\n",
              "  </tbody>\n",
              "</table>\n",
              "</div>"
            ],
            "text/plain": [
              "                  temp_avg  temp_min  temp_max    precip  beer_consumption\n",
              "temp_avg          1.000000  0.678633  0.735339  0.026834          0.503227\n",
              "temp_min          0.678633  1.000000  0.531704  0.094701          0.345033\n",
              "temp_max          0.735339  0.531704  1.000000 -0.071084          0.587027\n",
              "precip            0.026834  0.094701 -0.071084  1.000000         -0.193784\n",
              "beer_consumption  0.503227  0.345033  0.587027 -0.193784          1.000000"
            ]
          },
          "metadata": {
            "tags": []
          },
          "execution_count": 7
        }
      ]
    },
    {
      "cell_type": "code",
      "metadata": {
        "id": "0u9Ox1GmnxCo",
        "colab_type": "code",
        "outputId": "42491acb-fdc1-47ac-89ed-33e688fb6fb1",
        "colab": {
          "base_uri": "https://localhost:8080/",
          "height": 400
        }
      },
      "source": [
        "sns.heatmap(cerveja.corr(),annot= True)"
      ],
      "execution_count": 0,
      "outputs": [
        {
          "output_type": "execute_result",
          "data": {
            "text/plain": [
              "<matplotlib.axes._subplots.AxesSubplot at 0x7f8507d3d2e8>"
            ]
          },
          "metadata": {
            "tags": []
          },
          "execution_count": 8
        },
        {
          "output_type": "display_data",
          "data": {
            "image/png": "[encoded data removed]",
            "text/plain": [
              "<Figure size 576x396 with 2 Axes>"
            ]
          },
          "metadata": {
            "tags": []
          }
        }
      ]
    },
    {
      "cell_type": "code",
      "metadata": {
        "id": "pIjth96ZohBB",
        "colab_type": "code",
        "colab": {}
      },
      "source": [
        "# Compreende As relaçoes entre variaveis"
      ],
      "execution_count": 0,
      "outputs": []
    },
    {
      "cell_type": "code",
      "metadata": {
        "id": "txkwvmYRom4O",
        "colab_type": "code",
        "outputId": "3059597a-63cf-48da-abc4-82bcf57d82fe",
        "colab": {
          "base_uri": "https://localhost:8080/",
          "height": 387
        }
      },
      "source": [
        "sns.lmplot(\"beer_consumption\", \"temp_avg\", cerveja,\n",
        "           scatter_kws={\"marker\":\"x\",\"color\":\"blue\"},\n",
        "           line_kws={\"linewidth\":1, \"color\":\"orange\"})\n"
      ],
      "execution_count": 0,
      "outputs": [
        {
          "output_type": "execute_result",
          "data": {
            "text/plain": [
              "<seaborn.axisgrid.FacetGrid at 0x7f8507b40080>"
            ]
          },
          "metadata": {
            "tags": []
          },
          "execution_count": 9
        },
        {
          "output_type": "display_data",
          "data": {
            "image/png": "[encoded data removed]",
            "text/plain": [
              "<Figure size 360x360 with 1 Axes>"
            ]
          },
          "metadata": {
            "tags": []
          }
        }
      ]
    },
    {
      "cell_type": "code",
      "metadata": {
        "id": "-OQ8vwWSpygU",
        "colab_type": "code",
        "outputId": "03e079de-55d2-43c3-c195-793c8b378edf",
        "colab": {
          "base_uri": "https://localhost:8080/",
          "height": 387
        }
      },
      "source": [
        "sns.lmplot(\"beer_consumption\", \"temp_max\", cerveja,\n",
        "           scatter_kws={\"marker\":\"x\",\"color\":\"blue\"},\n",
        "           line_kws={\"linewidth\":1, \"color\":\"orange\"})\n"
      ],
      "execution_count": 0,
      "outputs": [
        {
          "output_type": "execute_result",
          "data": {
            "text/plain": [
              "<seaborn.axisgrid.FacetGrid at 0x7f850685fe48>"
            ]
          },
          "metadata": {
            "tags": []
          },
          "execution_count": 10
        },
        {
          "output_type": "display_data",
          "data": {
            "image/png": "[encoded data removed]",
            "text/plain": [
              "<Figure size 360x360 with 1 Axes>"
            ]
          },
          "metadata": {
            "tags": []
          }
        }
      ]
    },
    {
      "cell_type": "code",
      "metadata": {
        "id": "20DyXw8fqA6R",
        "colab_type": "code",
        "outputId": "6b10eeca-be3a-4e9a-bdcb-8af81a4287b9",
        "colab": {
          "base_uri": "https://localhost:8080/",
          "height": 387
        }
      },
      "source": [
        "sns.lmplot(\"precip\", \"beer_consumption\", cerveja,\n",
        "           scatter_kws={\"marker\":\"x\",\"color\":\"blue\"},\n",
        "           line_kws={\"linewidth\":1, \"color\":\"orange\"})\n"
      ],
      "execution_count": 0,
      "outputs": [
        {
          "output_type": "execute_result",
          "data": {
            "text/plain": [
              "<seaborn.axisgrid.FacetGrid at 0x7f8507d61f60>"
            ]
          },
          "metadata": {
            "tags": []
          },
          "execution_count": 11
        },
        {
          "output_type": "display_data",
          "data": {
            "image/png": "[encoded data removed]",
            "text/plain": [
              "<Figure size 360x360 with 1 Axes>"
            ]
          },
          "metadata": {
            "tags": []
          }
        }
      ]
    },
    {
      "cell_type": "code",
      "metadata": {
        "id": "zJESZ4Kgqrah",
        "colab_type": "code",
        "outputId": "1ad14fef-904f-4c1f-a58e-e98ad7c907de",
        "colab": {
          "base_uri": "https://localhost:8080/",
          "height": 206
        }
      },
      "source": [
        "cerveja.head()"
      ],
      "execution_count": 0,
      "outputs": [
        {
          "output_type": "execute_result",
          "data": {
            "text/html": [
              "<div>\n",
              "<style scoped>\n",
              "    .dataframe tbody tr th:only-of-type {\n",
              "        vertical-align: middle;\n",
              "    }\n",
              "\n",
              "    .dataframe tbody tr th {\n",
              "        vertical-align: top;\n",
              "    }\n",
              "\n",
              "    .dataframe thead th {\n",
              "        text-align: right;\n",
              "    }\n",
              "</style>\n",
              "<table border=\"1\" class=\"dataframe\">\n",
              "  <thead>\n",
              "    <tr style=\"text-align: right;\">\n",
              "      <th></th>\n",
              "      <th>data</th>\n",
              "      <th>temp_avg</th>\n",
              "      <th>temp_min</th>\n",
              "      <th>temp_max</th>\n",
              "      <th>precip</th>\n",
              "      <th>weekend</th>\n",
              "      <th>beer_consumption</th>\n",
              "    </tr>\n",
              "  </thead>\n",
              "  <tbody>\n",
              "    <tr>\n",
              "      <th>0</th>\n",
              "      <td>2015-01-01</td>\n",
              "      <td>27.30</td>\n",
              "      <td>23.9</td>\n",
              "      <td>32.5</td>\n",
              "      <td>0.0</td>\n",
              "      <td>False</td>\n",
              "      <td>25461</td>\n",
              "    </tr>\n",
              "    <tr>\n",
              "      <th>1</th>\n",
              "      <td>2015-01-02</td>\n",
              "      <td>27.02</td>\n",
              "      <td>24.5</td>\n",
              "      <td>33.5</td>\n",
              "      <td>0.0</td>\n",
              "      <td>False</td>\n",
              "      <td>28972</td>\n",
              "    </tr>\n",
              "    <tr>\n",
              "      <th>2</th>\n",
              "      <td>2015-01-03</td>\n",
              "      <td>24.82</td>\n",
              "      <td>22.4</td>\n",
              "      <td>29.9</td>\n",
              "      <td>0.0</td>\n",
              "      <td>True</td>\n",
              "      <td>30814</td>\n",
              "    </tr>\n",
              "    <tr>\n",
              "      <th>3</th>\n",
              "      <td>2015-01-04</td>\n",
              "      <td>23.98</td>\n",
              "      <td>21.5</td>\n",
              "      <td>28.6</td>\n",
              "      <td>1.2</td>\n",
              "      <td>True</td>\n",
              "      <td>29799</td>\n",
              "    </tr>\n",
              "    <tr>\n",
              "      <th>4</th>\n",
              "      <td>2015-01-05</td>\n",
              "      <td>23.82</td>\n",
              "      <td>21.0</td>\n",
              "      <td>28.3</td>\n",
              "      <td>0.0</td>\n",
              "      <td>False</td>\n",
              "      <td>28900</td>\n",
              "    </tr>\n",
              "  </tbody>\n",
              "</table>\n",
              "</div>"
            ],
            "text/plain": [
              "        data  temp_avg  temp_min  temp_max  precip weekend  beer_consumption\n",
              "0 2015-01-01     27.30      23.9      32.5     0.0   False             25461\n",
              "1 2015-01-02     27.02      24.5      33.5     0.0   False             28972\n",
              "2 2015-01-03     24.82      22.4      29.9     0.0    True             30814\n",
              "3 2015-01-04     23.98      21.5      28.6     1.2    True             29799\n",
              "4 2015-01-05     23.82      21.0      28.3     0.0   False             28900"
            ]
          },
          "metadata": {
            "tags": []
          },
          "execution_count": 12
        }
      ]
    },
    {
      "cell_type": "code",
      "metadata": {
        "id": "0w6J2AdKq4vH",
        "colab_type": "code",
        "colab": {}
      },
      "source": [
        "# Mapear dados rotulos e transformar em numericos variavel "
      ],
      "execution_count": 0,
      "outputs": []
    },
    {
      "cell_type": "code",
      "metadata": {
        "id": "rcCTnf25rCX3",
        "colab_type": "code",
        "colab": {}
      },
      "source": [
        "class_weekend={True:1, False:0}\n",
        "\n",
        "cerveja[\"weekend\"]=cerveja[\"weekend\"].map(class_weekend)"
      ],
      "execution_count": 0,
      "outputs": []
    },
    {
      "cell_type": "code",
      "metadata": {
        "id": "upT1mfdzrsfV",
        "colab_type": "code",
        "outputId": "6d2f96ce-85d6-4b8d-8738-4c535340fff5",
        "colab": {
          "base_uri": "https://localhost:8080/",
          "height": 204
        }
      },
      "source": [
        "cerveja.head()"
      ],
      "execution_count": 7,
      "outputs": [
        {
          "output_type": "execute_result",
          "data": {
            "text/html": [
              "<div>\n",
              "<style scoped>\n",
              "    .dataframe tbody tr th:only-of-type {\n",
              "        vertical-align: middle;\n",
              "    }\n",
              "\n",
              "    .dataframe tbody tr th {\n",
              "        vertical-align: top;\n",
              "    }\n",
              "\n",
              "    .dataframe thead th {\n",
              "        text-align: right;\n",
              "    }\n",
              "</style>\n",
              "<table border=\"1\" class=\"dataframe\">\n",
              "  <thead>\n",
              "    <tr style=\"text-align: right;\">\n",
              "      <th></th>\n",
              "      <th>data</th>\n",
              "      <th>temp_avg</th>\n",
              "      <th>temp_min</th>\n",
              "      <th>temp_max</th>\n",
              "      <th>precip</th>\n",
              "      <th>weekend</th>\n",
              "      <th>beer_consumption</th>\n",
              "    </tr>\n",
              "  </thead>\n",
              "  <tbody>\n",
              "    <tr>\n",
              "      <th>0</th>\n",
              "      <td>2015-01-01</td>\n",
              "      <td>27.30</td>\n",
              "      <td>23.9</td>\n",
              "      <td>32.5</td>\n",
              "      <td>0.0</td>\n",
              "      <td>0.0</td>\n",
              "      <td>25461</td>\n",
              "    </tr>\n",
              "    <tr>\n",
              "      <th>1</th>\n",
              "      <td>2015-01-02</td>\n",
              "      <td>27.02</td>\n",
              "      <td>24.5</td>\n",
              "      <td>33.5</td>\n",
              "      <td>0.0</td>\n",
              "      <td>0.0</td>\n",
              "      <td>28972</td>\n",
              "    </tr>\n",
              "    <tr>\n",
              "      <th>2</th>\n",
              "      <td>2015-01-03</td>\n",
              "      <td>24.82</td>\n",
              "      <td>22.4</td>\n",
              "      <td>29.9</td>\n",
              "      <td>0.0</td>\n",
              "      <td>1.0</td>\n",
              "      <td>30814</td>\n",
              "    </tr>\n",
              "    <tr>\n",
              "      <th>3</th>\n",
              "      <td>2015-01-04</td>\n",
              "      <td>23.98</td>\n",
              "      <td>21.5</td>\n",
              "      <td>28.6</td>\n",
              "      <td>1.2</td>\n",
              "      <td>1.0</td>\n",
              "      <td>29799</td>\n",
              "    </tr>\n",
              "    <tr>\n",
              "      <th>4</th>\n",
              "      <td>2015-01-05</td>\n",
              "      <td>23.82</td>\n",
              "      <td>21.0</td>\n",
              "      <td>28.3</td>\n",
              "      <td>0.0</td>\n",
              "      <td>0.0</td>\n",
              "      <td>28900</td>\n",
              "    </tr>\n",
              "  </tbody>\n",
              "</table>\n",
              "</div>"
            ],
            "text/plain": [
              "        data  temp_avg  temp_min  temp_max  precip  weekend  beer_consumption\n",
              "0 2015-01-01     27.30      23.9      32.5     0.0      0.0             25461\n",
              "1 2015-01-02     27.02      24.5      33.5     0.0      0.0             28972\n",
              "2 2015-01-03     24.82      22.4      29.9     0.0      1.0             30814\n",
              "3 2015-01-04     23.98      21.5      28.6     1.2      1.0             29799\n",
              "4 2015-01-05     23.82      21.0      28.3     0.0      0.0             28900"
            ]
          },
          "metadata": {
            "tags": []
          },
          "execution_count": 7
        }
      ]
    },
    {
      "cell_type": "code",
      "metadata": {
        "id": "9GsY9i9GsLAV",
        "colab_type": "code",
        "colab": {}
      },
      "source": [
        "# Busca por dados nulos e invalidos"
      ],
      "execution_count": 0,
      "outputs": []
    },
    {
      "cell_type": "code",
      "metadata": {
        "id": "3Gv0WlC9sSnL",
        "colab_type": "code",
        "outputId": "2b1968bc-a3bb-4213-f740-ee2d9952002d",
        "colab": {
          "base_uri": "https://localhost:8080/",
          "height": 153
        }
      },
      "source": [
        "cerveja.isnull().any()"
      ],
      "execution_count": 9,
      "outputs": [
        {
          "output_type": "execute_result",
          "data": {
            "text/plain": [
              "data                False\n",
              "temp_avg             True\n",
              "temp_min             True\n",
              "temp_max             True\n",
              "precip              False\n",
              "weekend              True\n",
              "beer_consumption    False\n",
              "dtype: bool"
            ]
          },
          "metadata": {
            "tags": []
          },
          "execution_count": 9
        }
      ]
    },
    {
      "cell_type": "code",
      "metadata": {
        "id": "KZjqI1RlsxcG",
        "colab_type": "code",
        "outputId": "51555998-8a58-4618-f39f-18999405b58c",
        "colab": {
          "base_uri": "https://localhost:8080/",
          "height": 173
        }
      },
      "source": [
        "cerveja[cerveja[\"temp_avg\"].isnull()]"
      ],
      "execution_count": 8,
      "outputs": [
        {
          "output_type": "execute_result",
          "data": {
            "text/html": [
              "<div>\n",
              "<style scoped>\n",
              "    .dataframe tbody tr th:only-of-type {\n",
              "        vertical-align: middle;\n",
              "    }\n",
              "\n",
              "    .dataframe tbody tr th {\n",
              "        vertical-align: top;\n",
              "    }\n",
              "\n",
              "    .dataframe thead th {\n",
              "        text-align: right;\n",
              "    }\n",
              "</style>\n",
              "<table border=\"1\" class=\"dataframe\">\n",
              "  <thead>\n",
              "    <tr style=\"text-align: right;\">\n",
              "      <th></th>\n",
              "      <th>data</th>\n",
              "      <th>temp_avg</th>\n",
              "      <th>temp_min</th>\n",
              "      <th>temp_max</th>\n",
              "      <th>precip</th>\n",
              "      <th>weekend</th>\n",
              "      <th>beer_consumption</th>\n",
              "    </tr>\n",
              "  </thead>\n",
              "  <tbody>\n",
              "    <tr>\n",
              "      <th>168</th>\n",
              "      <td>2015-06-18</td>\n",
              "      <td>NaN</td>\n",
              "      <td>15.8</td>\n",
              "      <td>26.2</td>\n",
              "      <td>0.0</td>\n",
              "      <td>0.0</td>\n",
              "      <td>24534</td>\n",
              "    </tr>\n",
              "    <tr>\n",
              "      <th>181</th>\n",
              "      <td>2015-07-01</td>\n",
              "      <td>NaN</td>\n",
              "      <td>16.2</td>\n",
              "      <td>20.5</td>\n",
              "      <td>0.0</td>\n",
              "      <td>0.0</td>\n",
              "      <td>20824</td>\n",
              "    </tr>\n",
              "    <tr>\n",
              "      <th>309</th>\n",
              "      <td>2015-11-06</td>\n",
              "      <td>NaN</td>\n",
              "      <td>18.0</td>\n",
              "      <td>22.8</td>\n",
              "      <td>0.0</td>\n",
              "      <td>0.0</td>\n",
              "      <td>20575</td>\n",
              "    </tr>\n",
              "    <tr>\n",
              "      <th>314</th>\n",
              "      <td>2015-11-11</td>\n",
              "      <td>NaN</td>\n",
              "      <td>19.8</td>\n",
              "      <td>32.7</td>\n",
              "      <td>0.0</td>\n",
              "      <td>0.0</td>\n",
              "      <td>29569</td>\n",
              "    </tr>\n",
              "  </tbody>\n",
              "</table>\n",
              "</div>"
            ],
            "text/plain": [
              "          data  temp_avg  temp_min  temp_max  precip  weekend  beer_consumption\n",
              "168 2015-06-18       NaN      15.8      26.2     0.0      0.0             24534\n",
              "181 2015-07-01       NaN      16.2      20.5     0.0      0.0             20824\n",
              "309 2015-11-06       NaN      18.0      22.8     0.0      0.0             20575\n",
              "314 2015-11-11       NaN      19.8      32.7     0.0      0.0             29569"
            ]
          },
          "metadata": {
            "tags": []
          },
          "execution_count": 8
        }
      ]
    },
    {
      "cell_type": "code",
      "metadata": {
        "id": "pWO2AsOftNXd",
        "colab_type": "code",
        "outputId": "767ecba6-3bfe-4275-8407-7e7e88e991ce",
        "colab": {
          "base_uri": "https://localhost:8080/",
          "height": 112
        }
      },
      "source": [
        "cerveja[cerveja[\"temp_min\"].isnull()]"
      ],
      "execution_count": 0,
      "outputs": [
        {
          "output_type": "execute_result",
          "data": {
            "text/html": [
              "<div>\n",
              "<style scoped>\n",
              "    .dataframe tbody tr th:only-of-type {\n",
              "        vertical-align: middle;\n",
              "    }\n",
              "\n",
              "    .dataframe tbody tr th {\n",
              "        vertical-align: top;\n",
              "    }\n",
              "\n",
              "    .dataframe thead th {\n",
              "        text-align: right;\n",
              "    }\n",
              "</style>\n",
              "<table border=\"1\" class=\"dataframe\">\n",
              "  <thead>\n",
              "    <tr style=\"text-align: right;\">\n",
              "      <th></th>\n",
              "      <th>data</th>\n",
              "      <th>temp_avg</th>\n",
              "      <th>temp_min</th>\n",
              "      <th>temp_max</th>\n",
              "      <th>precip</th>\n",
              "      <th>weekend</th>\n",
              "      <th>beer_consumption</th>\n",
              "    </tr>\n",
              "  </thead>\n",
              "  <tbody>\n",
              "    <tr>\n",
              "      <th>7</th>\n",
              "      <td>2015-01-08</td>\n",
              "      <td>24.90</td>\n",
              "      <td>NaN</td>\n",
              "      <td>32.8</td>\n",
              "      <td>48.6</td>\n",
              "      <td>0.0</td>\n",
              "      <td>28397</td>\n",
              "    </tr>\n",
              "    <tr>\n",
              "      <th>116</th>\n",
              "      <td>2015-04-27</td>\n",
              "      <td>19.82</td>\n",
              "      <td>NaN</td>\n",
              "      <td>24.9</td>\n",
              "      <td>0.0</td>\n",
              "      <td>0.0</td>\n",
              "      <td>21838</td>\n",
              "    </tr>\n",
              "  </tbody>\n",
              "</table>\n",
              "</div>"
            ],
            "text/plain": [
              "          data  temp_avg  temp_min  temp_max  precip  weekend  beer_consumption\n",
              "7   2015-01-08     24.90       NaN      32.8    48.6      0.0             28397\n",
              "116 2015-04-27     19.82       NaN      24.9     0.0      0.0             21838"
            ]
          },
          "metadata": {
            "tags": []
          },
          "execution_count": 17
        }
      ]
    },
    {
      "cell_type": "code",
      "metadata": {
        "id": "NI93quAxtRBa",
        "colab_type": "code",
        "outputId": "113a8e2a-85b1-4b47-8baa-ad6b46775371",
        "colab": {
          "base_uri": "https://localhost:8080/",
          "height": 142
        }
      },
      "source": [
        "cerveja[cerveja[\"temp_max\"].isnull()]"
      ],
      "execution_count": 10,
      "outputs": [
        {
          "output_type": "execute_result",
          "data": {
            "text/html": [
              "<div>\n",
              "<style scoped>\n",
              "    .dataframe tbody tr th:only-of-type {\n",
              "        vertical-align: middle;\n",
              "    }\n",
              "\n",
              "    .dataframe tbody tr th {\n",
              "        vertical-align: top;\n",
              "    }\n",
              "\n",
              "    .dataframe thead th {\n",
              "        text-align: right;\n",
              "    }\n",
              "</style>\n",
              "<table border=\"1\" class=\"dataframe\">\n",
              "  <thead>\n",
              "    <tr style=\"text-align: right;\">\n",
              "      <th></th>\n",
              "      <th>data</th>\n",
              "      <th>temp_avg</th>\n",
              "      <th>temp_min</th>\n",
              "      <th>temp_max</th>\n",
              "      <th>precip</th>\n",
              "      <th>weekend</th>\n",
              "      <th>beer_consumption</th>\n",
              "    </tr>\n",
              "  </thead>\n",
              "  <tbody>\n",
              "    <tr>\n",
              "      <th>98</th>\n",
              "      <td>2015-04-09</td>\n",
              "      <td>19.40</td>\n",
              "      <td>15.9</td>\n",
              "      <td>NaN</td>\n",
              "      <td>0.0</td>\n",
              "      <td>0.0</td>\n",
              "      <td>20298</td>\n",
              "    </tr>\n",
              "    <tr>\n",
              "      <th>165</th>\n",
              "      <td>2015-06-15</td>\n",
              "      <td>16.02</td>\n",
              "      <td>13.1</td>\n",
              "      <td>NaN</td>\n",
              "      <td>0.0</td>\n",
              "      <td>0.0</td>\n",
              "      <td>19119</td>\n",
              "    </tr>\n",
              "    <tr>\n",
              "      <th>237</th>\n",
              "      <td>2015-08-26</td>\n",
              "      <td>18.92</td>\n",
              "      <td>14.8</td>\n",
              "      <td>NaN</td>\n",
              "      <td>0.6</td>\n",
              "      <td>0.0</td>\n",
              "      <td>23357</td>\n",
              "    </tr>\n",
              "  </tbody>\n",
              "</table>\n",
              "</div>"
            ],
            "text/plain": [
              "          data  temp_avg  temp_min  temp_max  precip  weekend  beer_consumption\n",
              "98  2015-04-09     19.40      15.9       NaN     0.0      0.0             20298\n",
              "165 2015-06-15     16.02      13.1       NaN     0.0      0.0             19119\n",
              "237 2015-08-26     18.92      14.8       NaN     0.6      0.0             23357"
            ]
          },
          "metadata": {
            "tags": []
          },
          "execution_count": 10
        }
      ]
    },
    {
      "cell_type": "code",
      "metadata": {
        "id": "MutaS6FjtW0Y",
        "colab_type": "code",
        "outputId": "e8ccfb0e-4a2d-45e6-add0-54ff803036de",
        "colab": {
          "base_uri": "https://localhost:8080/",
          "height": 111
        }
      },
      "source": [
        "cerveja[cerveja[\"weekend\"].isnull()]"
      ],
      "execution_count": 11,
      "outputs": [
        {
          "output_type": "execute_result",
          "data": {
            "text/html": [
              "<div>\n",
              "<style scoped>\n",
              "    .dataframe tbody tr th:only-of-type {\n",
              "        vertical-align: middle;\n",
              "    }\n",
              "\n",
              "    .dataframe tbody tr th {\n",
              "        vertical-align: top;\n",
              "    }\n",
              "\n",
              "    .dataframe thead th {\n",
              "        text-align: right;\n",
              "    }\n",
              "</style>\n",
              "<table border=\"1\" class=\"dataframe\">\n",
              "  <thead>\n",
              "    <tr style=\"text-align: right;\">\n",
              "      <th></th>\n",
              "      <th>data</th>\n",
              "      <th>temp_avg</th>\n",
              "      <th>temp_min</th>\n",
              "      <th>temp_max</th>\n",
              "      <th>precip</th>\n",
              "      <th>weekend</th>\n",
              "      <th>beer_consumption</th>\n",
              "    </tr>\n",
              "  </thead>\n",
              "  <tbody>\n",
              "    <tr>\n",
              "      <th>21</th>\n",
              "      <td>2015-01-22</td>\n",
              "      <td>21.74</td>\n",
              "      <td>19.2</td>\n",
              "      <td>0.0</td>\n",
              "      <td>31.0</td>\n",
              "      <td>NaN</td>\n",
              "      <td>25795</td>\n",
              "    </tr>\n",
              "    <tr>\n",
              "      <th>27</th>\n",
              "      <td>2015-01-28</td>\n",
              "      <td>25.68</td>\n",
              "      <td>20.1</td>\n",
              "      <td>29.9</td>\n",
              "      <td>4.9</td>\n",
              "      <td>NaN</td>\n",
              "      <td>22603</td>\n",
              "    </tr>\n",
              "  </tbody>\n",
              "</table>\n",
              "</div>"
            ],
            "text/plain": [
              "         data  temp_avg  temp_min  temp_max  precip  weekend  beer_consumption\n",
              "21 2015-01-22     21.74      19.2       0.0    31.0      NaN             25795\n",
              "27 2015-01-28     25.68      20.1      29.9     4.9      NaN             22603"
            ]
          },
          "metadata": {
            "tags": []
          },
          "execution_count": 11
        }
      ]
    },
    {
      "cell_type": "markdown",
      "metadata": {
        "id": "NAKgM8lWuAFO",
        "colab_type": "text"
      },
      "source": [
        "### Tratamento dos dados Faltantes"
      ]
    },
    {
      "cell_type": "code",
      "metadata": {
        "id": "No2WlAgAuHDu",
        "colab_type": "code",
        "outputId": "abe0b123-ed89-42c0-f805-00729b42b9ac",
        "colab": {
          "base_uri": "https://localhost:8080/",
          "height": 173
        }
      },
      "source": [
        "cerveja_temp_avg_nulo=cerveja[cerveja[\"temp_avg\"].isnull()].copy()\n",
        "cerveja_temp_avg_nulo"
      ],
      "execution_count": 12,
      "outputs": [
        {
          "output_type": "execute_result",
          "data": {
            "text/html": [
              "<div>\n",
              "<style scoped>\n",
              "    .dataframe tbody tr th:only-of-type {\n",
              "        vertical-align: middle;\n",
              "    }\n",
              "\n",
              "    .dataframe tbody tr th {\n",
              "        vertical-align: top;\n",
              "    }\n",
              "\n",
              "    .dataframe thead th {\n",
              "        text-align: right;\n",
              "    }\n",
              "</style>\n",
              "<table border=\"1\" class=\"dataframe\">\n",
              "  <thead>\n",
              "    <tr style=\"text-align: right;\">\n",
              "      <th></th>\n",
              "      <th>data</th>\n",
              "      <th>temp_avg</th>\n",
              "      <th>temp_min</th>\n",
              "      <th>temp_max</th>\n",
              "      <th>precip</th>\n",
              "      <th>weekend</th>\n",
              "      <th>beer_consumption</th>\n",
              "    </tr>\n",
              "  </thead>\n",
              "  <tbody>\n",
              "    <tr>\n",
              "      <th>168</th>\n",
              "      <td>2015-06-18</td>\n",
              "      <td>NaN</td>\n",
              "      <td>15.8</td>\n",
              "      <td>26.2</td>\n",
              "      <td>0.0</td>\n",
              "      <td>0.0</td>\n",
              "      <td>24534</td>\n",
              "    </tr>\n",
              "    <tr>\n",
              "      <th>181</th>\n",
              "      <td>2015-07-01</td>\n",
              "      <td>NaN</td>\n",
              "      <td>16.2</td>\n",
              "      <td>20.5</td>\n",
              "      <td>0.0</td>\n",
              "      <td>0.0</td>\n",
              "      <td>20824</td>\n",
              "    </tr>\n",
              "    <tr>\n",
              "      <th>309</th>\n",
              "      <td>2015-11-06</td>\n",
              "      <td>NaN</td>\n",
              "      <td>18.0</td>\n",
              "      <td>22.8</td>\n",
              "      <td>0.0</td>\n",
              "      <td>0.0</td>\n",
              "      <td>20575</td>\n",
              "    </tr>\n",
              "    <tr>\n",
              "      <th>314</th>\n",
              "      <td>2015-11-11</td>\n",
              "      <td>NaN</td>\n",
              "      <td>19.8</td>\n",
              "      <td>32.7</td>\n",
              "      <td>0.0</td>\n",
              "      <td>0.0</td>\n",
              "      <td>29569</td>\n",
              "    </tr>\n",
              "  </tbody>\n",
              "</table>\n",
              "</div>"
            ],
            "text/plain": [
              "          data  temp_avg  temp_min  temp_max  precip  weekend  beer_consumption\n",
              "168 2015-06-18       NaN      15.8      26.2     0.0      0.0             24534\n",
              "181 2015-07-01       NaN      16.2      20.5     0.0      0.0             20824\n",
              "309 2015-11-06       NaN      18.0      22.8     0.0      0.0             20575\n",
              "314 2015-11-11       NaN      19.8      32.7     0.0      0.0             29569"
            ]
          },
          "metadata": {
            "tags": []
          },
          "execution_count": 12
        }
      ]
    },
    {
      "cell_type": "code",
      "metadata": {
        "id": "ieb1noFjuu5y",
        "colab_type": "code",
        "outputId": "844a007f-d29e-4d16-c4e2-d90190708908",
        "colab": {
          "base_uri": "https://localhost:8080/",
          "height": 173
        }
      },
      "source": [
        "cerveja_temp_avg_nulo[\"temp_avg\"]=(cerveja[\"temp_max\"]+cerveja[\"temp_min\"])/2\n",
        "cerveja_temp_avg_nulo"
      ],
      "execution_count": 13,
      "outputs": [
        {
          "output_type": "execute_result",
          "data": {
            "text/html": [
              "<div>\n",
              "<style scoped>\n",
              "    .dataframe tbody tr th:only-of-type {\n",
              "        vertical-align: middle;\n",
              "    }\n",
              "\n",
              "    .dataframe tbody tr th {\n",
              "        vertical-align: top;\n",
              "    }\n",
              "\n",
              "    .dataframe thead th {\n",
              "        text-align: right;\n",
              "    }\n",
              "</style>\n",
              "<table border=\"1\" class=\"dataframe\">\n",
              "  <thead>\n",
              "    <tr style=\"text-align: right;\">\n",
              "      <th></th>\n",
              "      <th>data</th>\n",
              "      <th>temp_avg</th>\n",
              "      <th>temp_min</th>\n",
              "      <th>temp_max</th>\n",
              "      <th>precip</th>\n",
              "      <th>weekend</th>\n",
              "      <th>beer_consumption</th>\n",
              "    </tr>\n",
              "  </thead>\n",
              "  <tbody>\n",
              "    <tr>\n",
              "      <th>168</th>\n",
              "      <td>2015-06-18</td>\n",
              "      <td>21.00</td>\n",
              "      <td>15.8</td>\n",
              "      <td>26.2</td>\n",
              "      <td>0.0</td>\n",
              "      <td>0.0</td>\n",
              "      <td>24534</td>\n",
              "    </tr>\n",
              "    <tr>\n",
              "      <th>181</th>\n",
              "      <td>2015-07-01</td>\n",
              "      <td>18.35</td>\n",
              "      <td>16.2</td>\n",
              "      <td>20.5</td>\n",
              "      <td>0.0</td>\n",
              "      <td>0.0</td>\n",
              "      <td>20824</td>\n",
              "    </tr>\n",
              "    <tr>\n",
              "      <th>309</th>\n",
              "      <td>2015-11-06</td>\n",
              "      <td>20.40</td>\n",
              "      <td>18.0</td>\n",
              "      <td>22.8</td>\n",
              "      <td>0.0</td>\n",
              "      <td>0.0</td>\n",
              "      <td>20575</td>\n",
              "    </tr>\n",
              "    <tr>\n",
              "      <th>314</th>\n",
              "      <td>2015-11-11</td>\n",
              "      <td>26.25</td>\n",
              "      <td>19.8</td>\n",
              "      <td>32.7</td>\n",
              "      <td>0.0</td>\n",
              "      <td>0.0</td>\n",
              "      <td>29569</td>\n",
              "    </tr>\n",
              "  </tbody>\n",
              "</table>\n",
              "</div>"
            ],
            "text/plain": [
              "          data  temp_avg  temp_min  temp_max  precip  weekend  beer_consumption\n",
              "168 2015-06-18     21.00      15.8      26.2     0.0      0.0             24534\n",
              "181 2015-07-01     18.35      16.2      20.5     0.0      0.0             20824\n",
              "309 2015-11-06     20.40      18.0      22.8     0.0      0.0             20575\n",
              "314 2015-11-11     26.25      19.8      32.7     0.0      0.0             29569"
            ]
          },
          "metadata": {
            "tags": []
          },
          "execution_count": 13
        }
      ]
    },
    {
      "cell_type": "code",
      "metadata": {
        "id": "IORK_QSivs_1",
        "colab_type": "code",
        "colab": {}
      },
      "source": [
        "cerveja[\"temp_avg\"]=cerveja[\"temp_avg\"].replace(np.nan,(cerveja[\"temp_max\"]+cerveja[\"temp_min\"])/2)"
      ],
      "execution_count": 0,
      "outputs": []
    },
    {
      "cell_type": "code",
      "metadata": {
        "id": "a1J793yiwfKK",
        "colab_type": "code",
        "outputId": "4b39293a-54ce-4ed3-dd96-3584bd8ce77c",
        "colab": {
          "base_uri": "https://localhost:8080/",
          "height": 111
        }
      },
      "source": [
        "cerveja.loc[[168,181]]"
      ],
      "execution_count": 15,
      "outputs": [
        {
          "output_type": "execute_result",
          "data": {
            "text/html": [
              "<div>\n",
              "<style scoped>\n",
              "    .dataframe tbody tr th:only-of-type {\n",
              "        vertical-align: middle;\n",
              "    }\n",
              "\n",
              "    .dataframe tbody tr th {\n",
              "        vertical-align: top;\n",
              "    }\n",
              "\n",
              "    .dataframe thead th {\n",
              "        text-align: right;\n",
              "    }\n",
              "</style>\n",
              "<table border=\"1\" class=\"dataframe\">\n",
              "  <thead>\n",
              "    <tr style=\"text-align: right;\">\n",
              "      <th></th>\n",
              "      <th>data</th>\n",
              "      <th>temp_avg</th>\n",
              "      <th>temp_min</th>\n",
              "      <th>temp_max</th>\n",
              "      <th>precip</th>\n",
              "      <th>weekend</th>\n",
              "      <th>beer_consumption</th>\n",
              "    </tr>\n",
              "  </thead>\n",
              "  <tbody>\n",
              "    <tr>\n",
              "      <th>168</th>\n",
              "      <td>2015-06-18</td>\n",
              "      <td>21.00</td>\n",
              "      <td>15.8</td>\n",
              "      <td>26.2</td>\n",
              "      <td>0.0</td>\n",
              "      <td>0.0</td>\n",
              "      <td>24534</td>\n",
              "    </tr>\n",
              "    <tr>\n",
              "      <th>181</th>\n",
              "      <td>2015-07-01</td>\n",
              "      <td>18.35</td>\n",
              "      <td>16.2</td>\n",
              "      <td>20.5</td>\n",
              "      <td>0.0</td>\n",
              "      <td>0.0</td>\n",
              "      <td>20824</td>\n",
              "    </tr>\n",
              "  </tbody>\n",
              "</table>\n",
              "</div>"
            ],
            "text/plain": [
              "          data  temp_avg  temp_min  temp_max  precip  weekend  beer_consumption\n",
              "168 2015-06-18     21.00      15.8      26.2     0.0      0.0             24534\n",
              "181 2015-07-01     18.35      16.2      20.5     0.0      0.0             20824"
            ]
          },
          "metadata": {
            "tags": []
          },
          "execution_count": 15
        }
      ]
    },
    {
      "cell_type": "code",
      "metadata": {
        "id": "wyrknEj2xDFl",
        "colab_type": "code",
        "colab": {}
      },
      "source": [
        "# outra forma"
      ],
      "execution_count": 0,
      "outputs": []
    },
    {
      "cell_type": "code",
      "metadata": {
        "id": "2vNIJ4zvxFNA",
        "colab_type": "code",
        "colab": {}
      },
      "source": [
        "cerveja[\"temp_avg\"]=cerveja[\"temp_avg\"].replace(np.nan,cerveja[\"temp_max\"].mean())"
      ],
      "execution_count": 0,
      "outputs": []
    },
    {
      "cell_type": "code",
      "metadata": {
        "id": "UPQ3Ngl3xRsd",
        "colab_type": "code",
        "outputId": "4949f1fc-0125-47e6-90bc-0530682f3248",
        "colab": {
          "base_uri": "https://localhost:8080/",
          "height": 111
        }
      },
      "source": [
        "cerveja.loc[[168,181]]"
      ],
      "execution_count": 17,
      "outputs": [
        {
          "output_type": "execute_result",
          "data": {
            "text/html": [
              "<div>\n",
              "<style scoped>\n",
              "    .dataframe tbody tr th:only-of-type {\n",
              "        vertical-align: middle;\n",
              "    }\n",
              "\n",
              "    .dataframe tbody tr th {\n",
              "        vertical-align: top;\n",
              "    }\n",
              "\n",
              "    .dataframe thead th {\n",
              "        text-align: right;\n",
              "    }\n",
              "</style>\n",
              "<table border=\"1\" class=\"dataframe\">\n",
              "  <thead>\n",
              "    <tr style=\"text-align: right;\">\n",
              "      <th></th>\n",
              "      <th>data</th>\n",
              "      <th>temp_avg</th>\n",
              "      <th>temp_min</th>\n",
              "      <th>temp_max</th>\n",
              "      <th>precip</th>\n",
              "      <th>weekend</th>\n",
              "      <th>beer_consumption</th>\n",
              "    </tr>\n",
              "  </thead>\n",
              "  <tbody>\n",
              "    <tr>\n",
              "      <th>168</th>\n",
              "      <td>2015-06-18</td>\n",
              "      <td>21.00</td>\n",
              "      <td>15.8</td>\n",
              "      <td>26.2</td>\n",
              "      <td>0.0</td>\n",
              "      <td>0.0</td>\n",
              "      <td>24534</td>\n",
              "    </tr>\n",
              "    <tr>\n",
              "      <th>181</th>\n",
              "      <td>2015-07-01</td>\n",
              "      <td>18.35</td>\n",
              "      <td>16.2</td>\n",
              "      <td>20.5</td>\n",
              "      <td>0.0</td>\n",
              "      <td>0.0</td>\n",
              "      <td>20824</td>\n",
              "    </tr>\n",
              "  </tbody>\n",
              "</table>\n",
              "</div>"
            ],
            "text/plain": [
              "          data  temp_avg  temp_min  temp_max  precip  weekend  beer_consumption\n",
              "168 2015-06-18     21.00      15.8      26.2     0.0      0.0             24534\n",
              "181 2015-07-01     18.35      16.2      20.5     0.0      0.0             20824"
            ]
          },
          "metadata": {
            "tags": []
          },
          "execution_count": 17
        }
      ]
    },
    {
      "cell_type": "code",
      "metadata": {
        "id": "gf_kxWZ_ximX",
        "colab_type": "code",
        "colab": {}
      },
      "source": [
        "cerveja[\"temp_min\"]=cerveja[\"temp_min\"].replace(np.nan,cerveja[\"temp_min\"].mean())"
      ],
      "execution_count": 0,
      "outputs": []
    },
    {
      "cell_type": "code",
      "metadata": {
        "id": "zwm1-QdsyDcH",
        "colab_type": "code",
        "outputId": "1224f584-9b98-4b1c-a633-a4a4470a8218",
        "colab": {
          "base_uri": "https://localhost:8080/",
          "height": 111
        }
      },
      "source": [
        "cerveja.loc[[7,116]]"
      ],
      "execution_count": 19,
      "outputs": [
        {
          "output_type": "execute_result",
          "data": {
            "text/html": [
              "<div>\n",
              "<style scoped>\n",
              "    .dataframe tbody tr th:only-of-type {\n",
              "        vertical-align: middle;\n",
              "    }\n",
              "\n",
              "    .dataframe tbody tr th {\n",
              "        vertical-align: top;\n",
              "    }\n",
              "\n",
              "    .dataframe thead th {\n",
              "        text-align: right;\n",
              "    }\n",
              "</style>\n",
              "<table border=\"1\" class=\"dataframe\">\n",
              "  <thead>\n",
              "    <tr style=\"text-align: right;\">\n",
              "      <th></th>\n",
              "      <th>data</th>\n",
              "      <th>temp_avg</th>\n",
              "      <th>temp_min</th>\n",
              "      <th>temp_max</th>\n",
              "      <th>precip</th>\n",
              "      <th>weekend</th>\n",
              "      <th>beer_consumption</th>\n",
              "    </tr>\n",
              "  </thead>\n",
              "  <tbody>\n",
              "    <tr>\n",
              "      <th>7</th>\n",
              "      <td>2015-01-08</td>\n",
              "      <td>24.90</td>\n",
              "      <td>17.39697</td>\n",
              "      <td>32.8</td>\n",
              "      <td>48.6</td>\n",
              "      <td>0.0</td>\n",
              "      <td>28397</td>\n",
              "    </tr>\n",
              "    <tr>\n",
              "      <th>116</th>\n",
              "      <td>2015-04-27</td>\n",
              "      <td>19.82</td>\n",
              "      <td>17.39697</td>\n",
              "      <td>24.9</td>\n",
              "      <td>0.0</td>\n",
              "      <td>0.0</td>\n",
              "      <td>21838</td>\n",
              "    </tr>\n",
              "  </tbody>\n",
              "</table>\n",
              "</div>"
            ],
            "text/plain": [
              "          data  temp_avg  temp_min  temp_max  precip  weekend  beer_consumption\n",
              "7   2015-01-08     24.90  17.39697      32.8    48.6      0.0             28397\n",
              "116 2015-04-27     19.82  17.39697      24.9     0.0      0.0             21838"
            ]
          },
          "metadata": {
            "tags": []
          },
          "execution_count": 19
        }
      ]
    },
    {
      "cell_type": "code",
      "metadata": {
        "id": "yoShciFwyU8i",
        "colab_type": "code",
        "colab": {}
      },
      "source": [
        "cerveja[\"temp_max\"]=cerveja[\"temp_max\"].replace(np.nan,cerveja[\"temp_max\"].mean())"
      ],
      "execution_count": 0,
      "outputs": []
    },
    {
      "cell_type": "code",
      "metadata": {
        "id": "I9Vq14ZNygRn",
        "colab_type": "code",
        "outputId": "d253eab9-47dd-477b-f1d7-49bfc5c8b9c6",
        "colab": {
          "base_uri": "https://localhost:8080/",
          "height": 111
        }
      },
      "source": [
        "cerveja.loc[[98,165]]"
      ],
      "execution_count": 21,
      "outputs": [
        {
          "output_type": "execute_result",
          "data": {
            "text/html": [
              "<div>\n",
              "<style scoped>\n",
              "    .dataframe tbody tr th:only-of-type {\n",
              "        vertical-align: middle;\n",
              "    }\n",
              "\n",
              "    .dataframe tbody tr th {\n",
              "        vertical-align: top;\n",
              "    }\n",
              "\n",
              "    .dataframe thead th {\n",
              "        text-align: right;\n",
              "    }\n",
              "</style>\n",
              "<table border=\"1\" class=\"dataframe\">\n",
              "  <thead>\n",
              "    <tr style=\"text-align: right;\">\n",
              "      <th></th>\n",
              "      <th>data</th>\n",
              "      <th>temp_avg</th>\n",
              "      <th>temp_min</th>\n",
              "      <th>temp_max</th>\n",
              "      <th>precip</th>\n",
              "      <th>weekend</th>\n",
              "      <th>beer_consumption</th>\n",
              "    </tr>\n",
              "  </thead>\n",
              "  <tbody>\n",
              "    <tr>\n",
              "      <th>98</th>\n",
              "      <td>2015-04-09</td>\n",
              "      <td>19.40</td>\n",
              "      <td>15.9</td>\n",
              "      <td>26.480663</td>\n",
              "      <td>0.0</td>\n",
              "      <td>0.0</td>\n",
              "      <td>20298</td>\n",
              "    </tr>\n",
              "    <tr>\n",
              "      <th>165</th>\n",
              "      <td>2015-06-15</td>\n",
              "      <td>16.02</td>\n",
              "      <td>13.1</td>\n",
              "      <td>26.480663</td>\n",
              "      <td>0.0</td>\n",
              "      <td>0.0</td>\n",
              "      <td>19119</td>\n",
              "    </tr>\n",
              "  </tbody>\n",
              "</table>\n",
              "</div>"
            ],
            "text/plain": [
              "          data  temp_avg  temp_min  ...  precip  weekend  beer_consumption\n",
              "98  2015-04-09     19.40      15.9  ...     0.0      0.0             20298\n",
              "165 2015-06-15     16.02      13.1  ...     0.0      0.0             19119\n",
              "\n",
              "[2 rows x 7 columns]"
            ]
          },
          "metadata": {
            "tags": []
          },
          "execution_count": 21
        }
      ]
    },
    {
      "cell_type": "code",
      "metadata": {
        "id": "Xco4lnPYzFIy",
        "colab_type": "code",
        "colab": {}
      },
      "source": [
        "cerveja[\"weekend\"]=cerveja[\"weekend\"].replace(np.nan,cerveja[\"weekend\"].mode()[0])"
      ],
      "execution_count": 0,
      "outputs": []
    },
    {
      "cell_type": "code",
      "metadata": {
        "id": "x8W6nzJjz6f0",
        "colab_type": "code",
        "outputId": "bc2a555e-369a-4beb-8b5a-939c980c3b8d",
        "colab": {
          "base_uri": "https://localhost:8080/",
          "height": 111
        }
      },
      "source": [
        "cerveja.loc[[21,27]]"
      ],
      "execution_count": 23,
      "outputs": [
        {
          "output_type": "execute_result",
          "data": {
            "text/html": [
              "<div>\n",
              "<style scoped>\n",
              "    .dataframe tbody tr th:only-of-type {\n",
              "        vertical-align: middle;\n",
              "    }\n",
              "\n",
              "    .dataframe tbody tr th {\n",
              "        vertical-align: top;\n",
              "    }\n",
              "\n",
              "    .dataframe thead th {\n",
              "        text-align: right;\n",
              "    }\n",
              "</style>\n",
              "<table border=\"1\" class=\"dataframe\">\n",
              "  <thead>\n",
              "    <tr style=\"text-align: right;\">\n",
              "      <th></th>\n",
              "      <th>data</th>\n",
              "      <th>temp_avg</th>\n",
              "      <th>temp_min</th>\n",
              "      <th>temp_max</th>\n",
              "      <th>precip</th>\n",
              "      <th>weekend</th>\n",
              "      <th>beer_consumption</th>\n",
              "    </tr>\n",
              "  </thead>\n",
              "  <tbody>\n",
              "    <tr>\n",
              "      <th>21</th>\n",
              "      <td>2015-01-22</td>\n",
              "      <td>21.74</td>\n",
              "      <td>19.2</td>\n",
              "      <td>0.0</td>\n",
              "      <td>31.0</td>\n",
              "      <td>0.0</td>\n",
              "      <td>25795</td>\n",
              "    </tr>\n",
              "    <tr>\n",
              "      <th>27</th>\n",
              "      <td>2015-01-28</td>\n",
              "      <td>25.68</td>\n",
              "      <td>20.1</td>\n",
              "      <td>29.9</td>\n",
              "      <td>4.9</td>\n",
              "      <td>0.0</td>\n",
              "      <td>22603</td>\n",
              "    </tr>\n",
              "  </tbody>\n",
              "</table>\n",
              "</div>"
            ],
            "text/plain": [
              "         data  temp_avg  temp_min  temp_max  precip  weekend  beer_consumption\n",
              "21 2015-01-22     21.74      19.2       0.0    31.0      0.0             25795\n",
              "27 2015-01-28     25.68      20.1      29.9     4.9      0.0             22603"
            ]
          },
          "metadata": {
            "tags": []
          },
          "execution_count": 23
        }
      ]
    },
    {
      "cell_type": "code",
      "metadata": {
        "id": "sulC3j0s0DX-",
        "colab_type": "code",
        "outputId": "61075ad8-0dc3-43f0-ba9a-7c23afe2c739",
        "colab": {
          "base_uri": "https://localhost:8080/",
          "height": 153
        }
      },
      "source": [
        "cerveja.isnull().any()"
      ],
      "execution_count": 24,
      "outputs": [
        {
          "output_type": "execute_result",
          "data": {
            "text/plain": [
              "data                False\n",
              "temp_avg            False\n",
              "temp_min            False\n",
              "temp_max            False\n",
              "precip              False\n",
              "weekend             False\n",
              "beer_consumption    False\n",
              "dtype: bool"
            ]
          },
          "metadata": {
            "tags": []
          },
          "execution_count": 24
        }
      ]
    },
    {
      "cell_type": "code",
      "metadata": {
        "id": "QGabxy3o0Wa0",
        "colab_type": "code",
        "outputId": "814bb054-b20e-4762-bd52-f43e0e597ae3",
        "colab": {
          "base_uri": "https://localhost:8080/",
          "height": 386
        }
      },
      "source": [
        "sns.lmplot(\"beer_consumption\", \"temp_max\", cerveja,\n",
        "           scatter_kws={\"marker\":\"x\",\"color\":\"blue\"},\n",
        "           line_kws={\"linewidth\":1, \"color\":\"orange\"})"
      ],
      "execution_count": 25,
      "outputs": [
        {
          "output_type": "execute_result",
          "data": {
            "text/plain": [
              "<seaborn.axisgrid.FacetGrid at 0x7f56c2dae7b8>"
            ]
          },
          "metadata": {
            "tags": []
          },
          "execution_count": 25
        },
        {
          "output_type": "display_data",
          "data": {
            "image/png": "[encoded data removed]",
            "text/plain": [
              "<Figure size 360x360 with 1 Axes>"
            ]
          },
          "metadata": {
            "tags": []
          }
        }
      ]
    },
    {
      "cell_type": "code",
      "metadata": {
        "id": "gByexbGe4STC",
        "colab_type": "code",
        "colab": {}
      },
      "source": [
        "# TRatamento d Outliers"
      ],
      "execution_count": 0,
      "outputs": []
    },
    {
      "cell_type": "markdown",
      "metadata": {
        "id": "3Q3uVfCx4aXZ",
        "colab_type": "text"
      },
      "source": [
        "## Ao analisarmos os dados podemos observar valores discrepantes com valor 0 vamos realizar tratamento somente destes valores."
      ]
    },
    {
      "cell_type": "code",
      "metadata": {
        "id": "L_VuzJhN4xYy",
        "colab_type": "code",
        "outputId": "5a3d4b09-0ad4-4855-a102-0372a3df2a51",
        "colab": {
          "base_uri": "https://localhost:8080/",
          "height": 153
        }
      },
      "source": [
        "(cerveja==0).any()"
      ],
      "execution_count": 27,
      "outputs": [
        {
          "output_type": "execute_result",
          "data": {
            "text/plain": [
              "data                False\n",
              "temp_avg             True\n",
              "temp_min             True\n",
              "temp_max             True\n",
              "precip               True\n",
              "weekend              True\n",
              "beer_consumption    False\n",
              "dtype: bool"
            ]
          },
          "metadata": {
            "tags": []
          },
          "execution_count": 27
        }
      ]
    },
    {
      "cell_type": "code",
      "metadata": {
        "id": "rDGnsbEo5QoK",
        "colab_type": "code",
        "outputId": "489be68c-2799-4ef9-bced-134556fae0bc",
        "colab": {
          "base_uri": "https://localhost:8080/",
          "height": 80
        }
      },
      "source": [
        "cerveja[cerveja[\"temp_min\"]==0]"
      ],
      "execution_count": 28,
      "outputs": [
        {
          "output_type": "execute_result",
          "data": {
            "text/html": [
              "<div>\n",
              "<style scoped>\n",
              "    .dataframe tbody tr th:only-of-type {\n",
              "        vertical-align: middle;\n",
              "    }\n",
              "\n",
              "    .dataframe tbody tr th {\n",
              "        vertical-align: top;\n",
              "    }\n",
              "\n",
              "    .dataframe thead th {\n",
              "        text-align: right;\n",
              "    }\n",
              "</style>\n",
              "<table border=\"1\" class=\"dataframe\">\n",
              "  <thead>\n",
              "    <tr style=\"text-align: right;\">\n",
              "      <th></th>\n",
              "      <th>data</th>\n",
              "      <th>temp_avg</th>\n",
              "      <th>temp_min</th>\n",
              "      <th>temp_max</th>\n",
              "      <th>precip</th>\n",
              "      <th>weekend</th>\n",
              "      <th>beer_consumption</th>\n",
              "    </tr>\n",
              "  </thead>\n",
              "  <tbody>\n",
              "    <tr>\n",
              "      <th>13</th>\n",
              "      <td>2015-01-14</td>\n",
              "      <td>25.96</td>\n",
              "      <td>0.0</td>\n",
              "      <td>34.0</td>\n",
              "      <td>1.6</td>\n",
              "      <td>0.0</td>\n",
              "      <td>31825</td>\n",
              "    </tr>\n",
              "  </tbody>\n",
              "</table>\n",
              "</div>"
            ],
            "text/plain": [
              "         data  temp_avg  temp_min  temp_max  precip  weekend  beer_consumption\n",
              "13 2015-01-14     25.96       0.0      34.0     1.6      0.0             31825"
            ]
          },
          "metadata": {
            "tags": []
          },
          "execution_count": 28
        }
      ]
    },
    {
      "cell_type": "code",
      "metadata": {
        "id": "DqsEpi0f5_8o",
        "colab_type": "code",
        "outputId": "78f04f4d-2267-466f-fd4c-5dd60634e1a3",
        "colab": {
          "base_uri": "https://localhost:8080/",
          "height": 111
        }
      },
      "source": [
        "cerveja[cerveja[\"temp_max\"]==0]"
      ],
      "execution_count": 29,
      "outputs": [
        {
          "output_type": "execute_result",
          "data": {
            "text/html": [
              "<div>\n",
              "<style scoped>\n",
              "    .dataframe tbody tr th:only-of-type {\n",
              "        vertical-align: middle;\n",
              "    }\n",
              "\n",
              "    .dataframe tbody tr th {\n",
              "        vertical-align: top;\n",
              "    }\n",
              "\n",
              "    .dataframe thead th {\n",
              "        text-align: right;\n",
              "    }\n",
              "</style>\n",
              "<table border=\"1\" class=\"dataframe\">\n",
              "  <thead>\n",
              "    <tr style=\"text-align: right;\">\n",
              "      <th></th>\n",
              "      <th>data</th>\n",
              "      <th>temp_avg</th>\n",
              "      <th>temp_min</th>\n",
              "      <th>temp_max</th>\n",
              "      <th>precip</th>\n",
              "      <th>weekend</th>\n",
              "      <th>beer_consumption</th>\n",
              "    </tr>\n",
              "  </thead>\n",
              "  <tbody>\n",
              "    <tr>\n",
              "      <th>21</th>\n",
              "      <td>2015-01-22</td>\n",
              "      <td>21.74</td>\n",
              "      <td>19.2</td>\n",
              "      <td>0.0</td>\n",
              "      <td>31.0</td>\n",
              "      <td>0.0</td>\n",
              "      <td>25795</td>\n",
              "    </tr>\n",
              "    <tr>\n",
              "      <th>113</th>\n",
              "      <td>2015-04-24</td>\n",
              "      <td>22.52</td>\n",
              "      <td>19.3</td>\n",
              "      <td>0.0</td>\n",
              "      <td>0.0</td>\n",
              "      <td>0.0</td>\n",
              "      <td>24388</td>\n",
              "    </tr>\n",
              "  </tbody>\n",
              "</table>\n",
              "</div>"
            ],
            "text/plain": [
              "          data  temp_avg  temp_min  temp_max  precip  weekend  beer_consumption\n",
              "21  2015-01-22     21.74      19.2       0.0    31.0      0.0             25795\n",
              "113 2015-04-24     22.52      19.3       0.0     0.0      0.0             24388"
            ]
          },
          "metadata": {
            "tags": []
          },
          "execution_count": 29
        }
      ]
    },
    {
      "cell_type": "code",
      "metadata": {
        "id": "cimZxJsp6JhB",
        "colab_type": "code",
        "outputId": "610c46ed-2f49-4005-c878-8063c57a2e90",
        "colab": {
          "base_uri": "https://localhost:8080/",
          "height": 111
        }
      },
      "source": [
        "cerveja[cerveja[\"temp_avg\"]==0]"
      ],
      "execution_count": 30,
      "outputs": [
        {
          "output_type": "execute_result",
          "data": {
            "text/html": [
              "<div>\n",
              "<style scoped>\n",
              "    .dataframe tbody tr th:only-of-type {\n",
              "        vertical-align: middle;\n",
              "    }\n",
              "\n",
              "    .dataframe tbody tr th {\n",
              "        vertical-align: top;\n",
              "    }\n",
              "\n",
              "    .dataframe thead th {\n",
              "        text-align: right;\n",
              "    }\n",
              "</style>\n",
              "<table border=\"1\" class=\"dataframe\">\n",
              "  <thead>\n",
              "    <tr style=\"text-align: right;\">\n",
              "      <th></th>\n",
              "      <th>data</th>\n",
              "      <th>temp_avg</th>\n",
              "      <th>temp_min</th>\n",
              "      <th>temp_max</th>\n",
              "      <th>precip</th>\n",
              "      <th>weekend</th>\n",
              "      <th>beer_consumption</th>\n",
              "    </tr>\n",
              "  </thead>\n",
              "  <tbody>\n",
              "    <tr>\n",
              "      <th>323</th>\n",
              "      <td>2015-11-20</td>\n",
              "      <td>0.0</td>\n",
              "      <td>19.6</td>\n",
              "      <td>27.0</td>\n",
              "      <td>6.8</td>\n",
              "      <td>0.0</td>\n",
              "      <td>20332</td>\n",
              "    </tr>\n",
              "    <tr>\n",
              "      <th>339</th>\n",
              "      <td>2015-12-06</td>\n",
              "      <td>0.0</td>\n",
              "      <td>20.6</td>\n",
              "      <td>28.0</td>\n",
              "      <td>0.1</td>\n",
              "      <td>1.0</td>\n",
              "      <td>32780</td>\n",
              "    </tr>\n",
              "  </tbody>\n",
              "</table>\n",
              "</div>"
            ],
            "text/plain": [
              "          data  temp_avg  temp_min  temp_max  precip  weekend  beer_consumption\n",
              "323 2015-11-20       0.0      19.6      27.0     6.8      0.0             20332\n",
              "339 2015-12-06       0.0      20.6      28.0     0.1      1.0             32780"
            ]
          },
          "metadata": {
            "tags": []
          },
          "execution_count": 30
        }
      ]
    },
    {
      "cell_type": "code",
      "metadata": {
        "id": "8xQugiGU6Vd-",
        "colab_type": "code",
        "colab": {}
      },
      "source": [
        "cerveja[\"temp_avg\"]=cerveja[\"temp_avg\"].replace(0,(cerveja[\"temp_max\"]+cerveja[\"temp_min\"])/2)\n",
        "cerveja[\"temp_min\"]=cerveja[\"temp_min\"].replace(0,cerveja[\"temp_min\"].mean())\n",
        "cerveja[\"temp_max\"]=cerveja[\"temp_max\"].replace(0,cerveja[\"temp_max\"].mean())"
      ],
      "execution_count": 0,
      "outputs": []
    },
    {
      "cell_type": "code",
      "metadata": {
        "id": "Z-J4QTEN7jqy",
        "colab_type": "code",
        "outputId": "97b66005-4a22-4150-cfa8-a1d802c0784b",
        "colab": {
          "base_uri": "https://localhost:8080/",
          "height": 153
        }
      },
      "source": [
        "(cerveja==0).any()"
      ],
      "execution_count": 32,
      "outputs": [
        {
          "output_type": "execute_result",
          "data": {
            "text/plain": [
              "data                False\n",
              "temp_avg            False\n",
              "temp_min            False\n",
              "temp_max            False\n",
              "precip               True\n",
              "weekend              True\n",
              "beer_consumption    False\n",
              "dtype: bool"
            ]
          },
          "metadata": {
            "tags": []
          },
          "execution_count": 32
        }
      ]
    },
    {
      "cell_type": "markdown",
      "metadata": {
        "id": "XsKPOWv873wH",
        "colab_type": "text"
      },
      "source": [
        "## Modelagem"
      ]
    },
    {
      "cell_type": "markdown",
      "metadata": {
        "id": "XrXuS2DU7-zH",
        "colab_type": "text"
      },
      "source": [
        "Agora vamos modelar os dados"
      ]
    },
    {
      "cell_type": "markdown",
      "metadata": {
        "id": "4xLeMXV28FS6",
        "colab_type": "text"
      },
      "source": [
        "### Separacao os dados de treinamneto  e teste"
      ]
    },
    {
      "cell_type": "code",
      "metadata": {
        "id": "h0LpzNh78Qfe",
        "colab_type": "code",
        "colab": {}
      },
      "source": [
        "from sklearn.model_selection import train_test_split\n",
        "\n",
        "variaveis=['temp_max','precip','weekend']\n",
        "alvo=['beer_consumption']\n",
        "\n",
        "x= cerveja[variaveis].values\n",
        "y = cerveja[alvo].values\n",
        "\n"
      ],
      "execution_count": 0,
      "outputs": []
    },
    {
      "cell_type": "markdown",
      "metadata": {
        "id": "yPt7BrEd9PFd",
        "colab_type": "text"
      },
      "source": [
        "#seleciona a proporçao aproximada de treinamneto e teste"
      ]
    },
    {
      "cell_type": "code",
      "metadata": {
        "id": "_cHqbTxq9XRq",
        "colab_type": "code",
        "colab": {}
      },
      "source": [
        "split_test_size=0.30\n",
        "x_train, x_test, y_train, y_test=train_test_split(x,y,test_size=split_test_size, random_state=42)"
      ],
      "execution_count": 0,
      "outputs": []
    },
    {
      "cell_type": "code",
      "metadata": {
        "id": "P5ztqaR9-vGF",
        "colab_type": "code",
        "outputId": "1d05544a-0ae1-4df0-e6fb-a19ffa141833",
        "colab": {
          "base_uri": "https://localhost:8080/",
          "height": 34
        }
      },
      "source": [
        "print(\"{0:0.2f}% na base de treinamento\".format((len(x_train)/len(cerveja.index))*100))\n"
      ],
      "execution_count": 35,
      "outputs": [
        {
          "output_type": "stream",
          "text": [
            "69.86% na base de treinamento\n"
          ],
          "name": "stdout"
        }
      ]
    },
    {
      "cell_type": "code",
      "metadata": {
        "id": "2QeE-Hd-_Tvj",
        "colab_type": "code",
        "outputId": "a6e7b78b-9e87-4bd1-cf8e-5b20ef1ea1cd",
        "colab": {
          "base_uri": "https://localhost:8080/",
          "height": 34
        }
      },
      "source": [
        "print(\"{0:0.2f}% na base de test\".format((len(x_test)/len(cerveja.index))*100))"
      ],
      "execution_count": 36,
      "outputs": [
        {
          "output_type": "stream",
          "text": [
            "30.14% na base de test\n"
          ],
          "name": "stdout"
        }
      ]
    },
    {
      "cell_type": "markdown",
      "metadata": {
        "id": "GD2eO-p3_puM",
        "colab_type": "text"
      },
      "source": [
        "#Realizando a Interpolação"
      ]
    },
    {
      "cell_type": "code",
      "metadata": {
        "id": "jz8tBaQF_xHP",
        "colab_type": "code",
        "outputId": "8dc6b6c0-1050-494f-aefe-7ac8b4ed2e07",
        "colab": {
          "base_uri": "https://localhost:8080/",
          "height": 34
        }
      },
      "source": [
        "from sklearn import linear_model\n",
        "\n",
        "modelo_linear= linear_model.LinearRegression()\n",
        "\n",
        "modelo_linear.fit(x_train,y_train.ravel())"
      ],
      "execution_count": 37,
      "outputs": [
        {
          "output_type": "execute_result",
          "data": {
            "text/plain": [
              "LinearRegression(copy_X=True, fit_intercept=True, n_jobs=None, normalize=False)"
            ]
          },
          "metadata": {
            "tags": []
          },
          "execution_count": 37
        }
      ]
    },
    {
      "cell_type": "code",
      "metadata": {
        "id": "htOeF3SrAeMv",
        "colab_type": "code",
        "outputId": "e2faf69f-be3d-4e8c-ebf8-ca5ef666e85d",
        "colab": {
          "base_uri": "https://localhost:8080/",
          "height": 34
        }
      },
      "source": [
        "from sklearn.metrics import mean_squared_error,r2_score\n",
        "\n",
        "y_pred= modelo_linear.predict(x_test)\n",
        "\n",
        "print('R^2 score: %.2f'% r2_score(y_test,y_pred))"
      ],
      "execution_count": 38,
      "outputs": [
        {
          "output_type": "stream",
          "text": [
            "R^2 score: 0.74\n"
          ],
          "name": "stdout"
        }
      ]
    },
    {
      "cell_type": "markdown",
      "metadata": {
        "id": "dy63Ui2CBlev",
        "colab_type": "text"
      },
      "source": [
        "Simulação"
      ]
    },
    {
      "cell_type": "code",
      "metadata": {
        "id": "KM4pjemzBp6y",
        "colab_type": "code",
        "outputId": "d45756c6-b327-4891-edb3-b3454949423d",
        "colab": {
          "base_uri": "https://localhost:8080/",
          "height": 34
        }
      },
      "source": [
        "valores_dos_dados=[[35,0,0]]\n",
        "# 35 graus celsius, não choveu(0), dia de semana(0)\n",
        "\n",
        "modelo_linear.predict(valores_dos_dados)"
      ],
      "execution_count": 39,
      "outputs": [
        {
          "output_type": "execute_result",
          "data": {
            "text/plain": [
              "array([29753.3647769])"
            ]
          },
          "metadata": {
            "tags": []
          },
          "execution_count": 39
        }
      ]
    },
    {
      "cell_type": "code",
      "metadata": {
        "id": "yO0PFj_kCOyT",
        "colab_type": "code",
        "outputId": "8f2c0c18-1f2a-4193-d6c5-b2e3dc72a7a9",
        "colab": {
          "base_uri": "https://localhost:8080/",
          "height": 34
        }
      },
      "source": [
        "valores_dos_dados=[[35,0,1]]\n",
        "# 35 graus celsius, não choveu(0),FIM de semana(1)\n",
        "\n",
        "modelo_linear.predict(valores_dos_dados)"
      ],
      "execution_count": 40,
      "outputs": [
        {
          "output_type": "execute_result",
          "data": {
            "text/plain": [
              "array([35092.25246658])"
            ]
          },
          "metadata": {
            "tags": []
          },
          "execution_count": 40
        }
      ]
    },
    {
      "cell_type": "code",
      "metadata": {
        "id": "Z6tj_my7Crlg",
        "colab_type": "code",
        "colab": {
          "base_uri": "https://localhost:8080/",
          "height": 34
        },
        "outputId": "916fc506-d661-4388-d4b3-0246d54cd1d2"
      },
      "source": [
        "valores_dos_dados=[[35,0,1]]\n",
        "# 35 graus celsius, não choveu(0),FIM de semana(1)\n",
        "\n",
        "modelo_linear.predict(valores_dos_dados)"
      ],
      "execution_count": 41,
      "outputs": [
        {
          "output_type": "execute_result",
          "data": {
            "text/plain": [
              "array([35092.25246658])"
            ]
          },
          "metadata": {
            "tags": []
          },
          "execution_count": 41
        }
      ]
    },
    {
      "cell_type": "markdown",
      "metadata": {
        "id": "h8JMqvbPC7VA",
        "colab_type": "text"
      },
      "source": [
        "Salvar o Modelo"
      ]
    },
    {
      "cell_type": "code",
      "metadata": {
        "id": "XGBQqF5SC93l",
        "colab_type": "code",
        "outputId": "e4ff9466-60db-4a1f-bb86-318da3097e0d",
        "colab": {
          "base_uri": "https://localhost:8080/",
          "height": 88
        }
      },
      "source": [
        "from sklearn.externals import joblib\n",
        "\n",
        "joblib.dump(modelo_linear,'sazonal.pkl')"
      ],
      "execution_count": 42,
      "outputs": [
        {
          "output_type": "stream",
          "text": [
            "/usr/local/lib/python3.6/dist-packages/sklearn/externals/joblib/__init__.py:15: FutureWarning: sklearn.externals.joblib is deprecated in 0.21 and will be removed in 0.23. Please import this functionality directly from joblib, which can be installed with: pip install joblib. If this warning is raised when loading pickled models, you may need to re-serialize those models with scikit-learn 0.21+.\n",
            "  warnings.warn(msg, category=FutureWarning)\n"
          ],
          "name": "stderr"
        },
        {
          "output_type": "execute_result",
          "data": {
            "text/plain": [
              "['sazonal.pkl']"
            ]
          },
          "metadata": {
            "tags": []
          },
          "execution_count": 42
        }
      ]
    },
    {
      "cell_type": "markdown",
      "metadata": {
        "id": "3n4tfLsKDeNR",
        "colab_type": "text"
      },
      "source": [
        "Carregando o modelo implementado"
      ]
    },
    {
      "cell_type": "code",
      "metadata": {
        "id": "J7Zmnn2eDkqD",
        "colab_type": "code",
        "colab": {}
      },
      "source": [
        "sazonal_homolaga= joblib.load(\"sazonal.pkl\")"
      ],
      "execution_count": 0,
      "outputs": []
    },
    {
      "cell_type": "code",
      "metadata": {
        "id": "xWm2Lq2eD6_w",
        "colab_type": "code",
        "outputId": "8adeeb42-e322-4b56-af79-31321f258c7d",
        "colab": {
          "base_uri": "https://localhost:8080/",
          "height": 34
        }
      },
      "source": [
        "sazonal_homolaga.predict(valores_dos_dados)"
      ],
      "execution_count": 44,
      "outputs": [
        {
          "output_type": "execute_result",
          "data": {
            "text/plain": [
              "array([35092.25246658])"
            ]
          },
          "metadata": {
            "tags": []
          },
          "execution_count": 44
        }
      ]
    }
  ]
}