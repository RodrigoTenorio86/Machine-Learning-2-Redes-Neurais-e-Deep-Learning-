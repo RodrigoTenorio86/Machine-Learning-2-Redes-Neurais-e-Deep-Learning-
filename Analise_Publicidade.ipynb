{
  "nbformat": 4,
  "nbformat_minor": 0,
  "metadata": {
    "colab": {
      "name": "Analise_Publicidade.ipynb",
      "provenance": [],
      "toc_visible": true,
      "authorship_tag": "ABX9TyN5nYLQNoOZ8I7wP7JPFhxq",
      "include_colab_link": true
    },
    "kernelspec": {
      "name": "python3",
      "display_name": "Python 3"
    }
  },
  "cells": [
    {
      "cell_type": "markdown",
      "metadata": {
        "id": "view-in-github",
        "colab_type": "text"
      },
      "source": [
        "<a href=\"https://colab.research.google.com/github/RodrigoTenorio86/Machine-Learning-2-Redes-Neurais-e-Deep-Learning-/blob/master/Analise_Publicidade.ipynb\" target=\"_parent\"><img src=\"https://colab.research.google.com/assets/colab-badge.svg\" alt=\"Open In Colab\"/></a>"
      ]
    },
    {
      "cell_type": "code",
      "metadata": {
        "id": "WktIERINE7pX",
        "colab_type": "code",
        "colab": {}
      },
      "source": [
        "import numpy as np\n",
        "import pandas as pd\n",
        "# Analise Graficas\n",
        "\n",
        "import seaborn as sns\n",
        "import matplotlib.pyplot as plt\n",
        "\n"
      ],
      "execution_count": 0,
      "outputs": []
    },
    {
      "cell_type": "code",
      "metadata": {
        "id": "9nW5LnZoFgxe",
        "colab_type": "code",
        "colab": {
          "base_uri": "https://localhost:8080/",
          "height": 206
        },
        "outputId": "0ba50506-186b-4fb6-a373-41a62c07fae6"
      },
      "source": [
        "publicidade=pd.read_csv(\"/content/PublicidadeI.csv\")\n",
        "publicidade.head()"
      ],
      "execution_count": 2,
      "outputs": [
        {
          "output_type": "execute_result",
          "data": {
            "text/html": [
              "<div>\n",
              "<style scoped>\n",
              "    .dataframe tbody tr th:only-of-type {\n",
              "        vertical-align: middle;\n",
              "    }\n",
              "\n",
              "    .dataframe tbody tr th {\n",
              "        vertical-align: top;\n",
              "    }\n",
              "\n",
              "    .dataframe thead th {\n",
              "        text-align: right;\n",
              "    }\n",
              "</style>\n",
              "<table border=\"1\" class=\"dataframe\">\n",
              "  <thead>\n",
              "    <tr style=\"text-align: right;\">\n",
              "      <th></th>\n",
              "      <th>Periodo</th>\n",
              "      <th>Propaganda</th>\n",
              "      <th>Desconto</th>\n",
              "      <th>Vendas</th>\n",
              "    </tr>\n",
              "  </thead>\n",
              "  <tbody>\n",
              "    <tr>\n",
              "      <th>0</th>\n",
              "      <td>16-Feb</td>\n",
              "      <td>8.33</td>\n",
              "      <td>12.0</td>\n",
              "      <td>1528.5</td>\n",
              "    </tr>\n",
              "    <tr>\n",
              "      <th>1</th>\n",
              "      <td>16-Mar</td>\n",
              "      <td>83.33</td>\n",
              "      <td>5.5</td>\n",
              "      <td>1560.0</td>\n",
              "    </tr>\n",
              "    <tr>\n",
              "      <th>2</th>\n",
              "      <td>16-Apr</td>\n",
              "      <td>25.00</td>\n",
              "      <td>8.0</td>\n",
              "      <td>1419.0</td>\n",
              "    </tr>\n",
              "    <tr>\n",
              "      <th>3</th>\n",
              "      <td>16-May</td>\n",
              "      <td>41.67</td>\n",
              "      <td>4.0</td>\n",
              "      <td>1335.0</td>\n",
              "    </tr>\n",
              "    <tr>\n",
              "      <th>4</th>\n",
              "      <td>16-Jun</td>\n",
              "      <td>16.67</td>\n",
              "      <td>9.5</td>\n",
              "      <td>1462.5</td>\n",
              "    </tr>\n",
              "  </tbody>\n",
              "</table>\n",
              "</div>"
            ],
            "text/plain": [
              "  Periodo  Propaganda  Desconto  Vendas\n",
              "0  16-Feb        8.33      12.0  1528.5\n",
              "1  16-Mar       83.33       5.5  1560.0\n",
              "2  16-Apr       25.00       8.0  1419.0\n",
              "3  16-May       41.67       4.0  1335.0\n",
              "4  16-Jun       16.67       9.5  1462.5"
            ]
          },
          "metadata": {
            "tags": []
          },
          "execution_count": 2
        }
      ]
    },
    {
      "cell_type": "code",
      "metadata": {
        "id": "mGaLV0uTGH2X",
        "colab_type": "code",
        "colab": {
          "base_uri": "https://localhost:8080/",
          "height": 300
        },
        "outputId": "31c1d74f-23aa-40b8-8606-a105611b459c"
      },
      "source": [
        "publicidade.describe()"
      ],
      "execution_count": 3,
      "outputs": [
        {
          "output_type": "execute_result",
          "data": {
            "text/html": [
              "<div>\n",
              "<style scoped>\n",
              "    .dataframe tbody tr th:only-of-type {\n",
              "        vertical-align: middle;\n",
              "    }\n",
              "\n",
              "    .dataframe tbody tr th {\n",
              "        vertical-align: top;\n",
              "    }\n",
              "\n",
              "    .dataframe thead th {\n",
              "        text-align: right;\n",
              "    }\n",
              "</style>\n",
              "<table border=\"1\" class=\"dataframe\">\n",
              "  <thead>\n",
              "    <tr style=\"text-align: right;\">\n",
              "      <th></th>\n",
              "      <th>Propaganda</th>\n",
              "      <th>Desconto</th>\n",
              "      <th>Vendas</th>\n",
              "    </tr>\n",
              "  </thead>\n",
              "  <tbody>\n",
              "    <tr>\n",
              "      <th>count</th>\n",
              "      <td>17.000000</td>\n",
              "      <td>17.000000</td>\n",
              "      <td>17.000000</td>\n",
              "    </tr>\n",
              "    <tr>\n",
              "      <th>mean</th>\n",
              "      <td>55.000000</td>\n",
              "      <td>6.764706</td>\n",
              "      <td>1481.323529</td>\n",
              "    </tr>\n",
              "    <tr>\n",
              "      <th>std</th>\n",
              "      <td>29.356762</td>\n",
              "      <td>3.657687</td>\n",
              "      <td>140.740113</td>\n",
              "    </tr>\n",
              "    <tr>\n",
              "      <th>min</th>\n",
              "      <td>8.330000</td>\n",
              "      <td>0.500000</td>\n",
              "      <td>1281.000000</td>\n",
              "    </tr>\n",
              "    <tr>\n",
              "      <th>25%</th>\n",
              "      <td>33.330000</td>\n",
              "      <td>4.500000</td>\n",
              "      <td>1375.500000</td>\n",
              "    </tr>\n",
              "    <tr>\n",
              "      <th>50%</th>\n",
              "      <td>55.000000</td>\n",
              "      <td>6.500000</td>\n",
              "      <td>1462.500000</td>\n",
              "    </tr>\n",
              "    <tr>\n",
              "      <th>75%</th>\n",
              "      <td>80.000000</td>\n",
              "      <td>9.500000</td>\n",
              "      <td>1560.000000</td>\n",
              "    </tr>\n",
              "    <tr>\n",
              "      <th>max</th>\n",
              "      <td>100.000000</td>\n",
              "      <td>12.000000</td>\n",
              "      <td>1747.500000</td>\n",
              "    </tr>\n",
              "  </tbody>\n",
              "</table>\n",
              "</div>"
            ],
            "text/plain": [
              "       Propaganda   Desconto       Vendas\n",
              "count   17.000000  17.000000    17.000000\n",
              "mean    55.000000   6.764706  1481.323529\n",
              "std     29.356762   3.657687   140.740113\n",
              "min      8.330000   0.500000  1281.000000\n",
              "25%     33.330000   4.500000  1375.500000\n",
              "50%     55.000000   6.500000  1462.500000\n",
              "75%     80.000000   9.500000  1560.000000\n",
              "max    100.000000  12.000000  1747.500000"
            ]
          },
          "metadata": {
            "tags": []
          },
          "execution_count": 3
        }
      ]
    },
    {
      "cell_type": "code",
      "metadata": {
        "id": "a4mziP9MGMhN",
        "colab_type": "code",
        "colab": {
          "base_uri": "https://localhost:8080/",
          "height": 109
        },
        "outputId": "588d623b-66f5-4d38-aba7-389ea7a34507"
      },
      "source": [
        "publicidade.count()"
      ],
      "execution_count": 4,
      "outputs": [
        {
          "output_type": "execute_result",
          "data": {
            "text/plain": [
              "Periodo       17\n",
              "Propaganda    17\n",
              "Desconto      17\n",
              "Vendas        17\n",
              "dtype: int64"
            ]
          },
          "metadata": {
            "tags": []
          },
          "execution_count": 4
        }
      ]
    },
    {
      "cell_type": "code",
      "metadata": {
        "id": "sMWUBno0HAT7",
        "colab_type": "code",
        "colab": {
          "base_uri": "https://localhost:8080/",
          "height": 143
        },
        "outputId": "b0479d89-eb9f-461a-bfeb-e95264344cea"
      },
      "source": [
        "publicidade.corr()"
      ],
      "execution_count": 5,
      "outputs": [
        {
          "output_type": "execute_result",
          "data": {
            "text/html": [
              "<div>\n",
              "<style scoped>\n",
              "    .dataframe tbody tr th:only-of-type {\n",
              "        vertical-align: middle;\n",
              "    }\n",
              "\n",
              "    .dataframe tbody tr th {\n",
              "        vertical-align: top;\n",
              "    }\n",
              "\n",
              "    .dataframe thead th {\n",
              "        text-align: right;\n",
              "    }\n",
              "</style>\n",
              "<table border=\"1\" class=\"dataframe\">\n",
              "  <thead>\n",
              "    <tr style=\"text-align: right;\">\n",
              "      <th></th>\n",
              "      <th>Propaganda</th>\n",
              "      <th>Desconto</th>\n",
              "      <th>Vendas</th>\n",
              "    </tr>\n",
              "  </thead>\n",
              "  <tbody>\n",
              "    <tr>\n",
              "      <th>Propaganda</th>\n",
              "      <td>1.000000</td>\n",
              "      <td>-0.119808</td>\n",
              "      <td>0.518405</td>\n",
              "    </tr>\n",
              "    <tr>\n",
              "      <th>Desconto</th>\n",
              "      <td>-0.119808</td>\n",
              "      <td>1.000000</td>\n",
              "      <td>0.779095</td>\n",
              "    </tr>\n",
              "    <tr>\n",
              "      <th>Vendas</th>\n",
              "      <td>0.518405</td>\n",
              "      <td>0.779095</td>\n",
              "      <td>1.000000</td>\n",
              "    </tr>\n",
              "  </tbody>\n",
              "</table>\n",
              "</div>"
            ],
            "text/plain": [
              "            Propaganda  Desconto    Vendas\n",
              "Propaganda    1.000000 -0.119808  0.518405\n",
              "Desconto     -0.119808  1.000000  0.779095\n",
              "Vendas        0.518405  0.779095  1.000000"
            ]
          },
          "metadata": {
            "tags": []
          },
          "execution_count": 5
        }
      ]
    },
    {
      "cell_type": "code",
      "metadata": {
        "id": "5mrx1lbcHN19",
        "colab_type": "code",
        "colab": {
          "base_uri": "https://localhost:8080/",
          "height": 287
        },
        "outputId": "60a65305-e2c3-447e-bc49-3988dc389be2"
      },
      "source": [
        "sns.heatmap(publicidade.corr(),annot= True)"
      ],
      "execution_count": 6,
      "outputs": [
        {
          "output_type": "execute_result",
          "data": {
            "text/plain": [
              "<matplotlib.axes._subplots.AxesSubplot at 0x7f175c9e6b00>"
            ]
          },
          "metadata": {
            "tags": []
          },
          "execution_count": 6
        },
        {
          "output_type": "display_data",
          "data": {
            "image/png": "[encoded data removed]",
            "text/plain": [
              "<Figure size 432x288 with 2 Axes>"
            ]
          },
          "metadata": {
            "tags": []
          }
        }
      ]
    },
    {
      "cell_type": "code",
      "metadata": {
        "id": "lra3-XexHwQQ",
        "colab_type": "code",
        "colab": {
          "base_uri": "https://localhost:8080/",
          "height": 387
        },
        "outputId": "5cd100c1-197a-4725-ce3d-24d7f7c73b4e"
      },
      "source": [
        "sns.lmplot(\"Vendas\", \"Desconto\", publicidade,\n",
        "           scatter_kws={\"marker\":\"x\",\"color\":\"blue\"},\n",
        "           line_kws={\"linewidth\":1, \"color\":\"orange\"})"
      ],
      "execution_count": 8,
      "outputs": [
        {
          "output_type": "execute_result",
          "data": {
            "text/plain": [
              "<seaborn.axisgrid.FacetGrid at 0x7f175b69b240>"
            ]
          },
          "metadata": {
            "tags": []
          },
          "execution_count": 8
        },
        {
          "output_type": "display_data",
          "data": {
            "image/png": "[encoded data removed]",
            "text/plain": [
              "<Figure size 360x360 with 1 Axes>"
            ]
          },
          "metadata": {
            "tags": []
          }
        }
      ]
    },
    {
      "cell_type": "code",
      "metadata": {
        "id": "77uFaeOZILOb",
        "colab_type": "code",
        "colab": {
          "base_uri": "https://localhost:8080/",
          "height": 387
        },
        "outputId": "4f6a4851-9f34-4a01-95c3-51c38bbb47de"
      },
      "source": [
        "sns.lmplot(\"Vendas\", \"Propaganda\", publicidade,\n",
        "           scatter_kws={\"marker\":\"x\",\"color\":\"blue\"},\n",
        "           line_kws={\"linewidth\":1, \"color\":\"orange\"})"
      ],
      "execution_count": 9,
      "outputs": [
        {
          "output_type": "execute_result",
          "data": {
            "text/plain": [
              "<seaborn.axisgrid.FacetGrid at 0x7f1758884cf8>"
            ]
          },
          "metadata": {
            "tags": []
          },
          "execution_count": 9
        },
        {
          "output_type": "display_data",
          "data": {
            "image/png": "[encoded data removed]",
            "text/plain": [
              "<Figure size 360x360 with 1 Axes>"
            ]
          },
          "metadata": {
            "tags": []
          }
        }
      ]
    },
    {
      "cell_type": "code",
      "metadata": {
        "id": "YijsPfkMITWB",
        "colab_type": "code",
        "colab": {}
      },
      "source": [
        "# Busca valores null  quanto mais desconto, maiores são as vendas"
      ],
      "execution_count": 0,
      "outputs": []
    },
    {
      "cell_type": "code",
      "metadata": {
        "id": "-BvFTHfWIgak",
        "colab_type": "code",
        "colab": {
          "base_uri": "https://localhost:8080/",
          "height": 109
        },
        "outputId": "9ce05b53-f562-4924-893a-0e682453022b"
      },
      "source": [
        "publicidade.isnull().any()"
      ],
      "execution_count": 10,
      "outputs": [
        {
          "output_type": "execute_result",
          "data": {
            "text/plain": [
              "Periodo       False\n",
              "Propaganda    False\n",
              "Desconto      False\n",
              "Vendas        False\n",
              "dtype: bool"
            ]
          },
          "metadata": {
            "tags": []
          },
          "execution_count": 10
        }
      ]
    },
    {
      "cell_type": "code",
      "metadata": {
        "id": "VOhQr0IIIsrr",
        "colab_type": "code",
        "colab": {}
      },
      "source": [
        "# Busca Outlirs 0"
      ],
      "execution_count": 0,
      "outputs": []
    },
    {
      "cell_type": "code",
      "metadata": {
        "id": "pNPy5uBaJP4s",
        "colab_type": "code",
        "colab": {
          "base_uri": "https://localhost:8080/",
          "height": 109
        },
        "outputId": "3bdfccfa-9b55-4549-f540-a16070607ba4"
      },
      "source": [
        "(publicidade==0).any()"
      ],
      "execution_count": 11,
      "outputs": [
        {
          "output_type": "execute_result",
          "data": {
            "text/plain": [
              "Periodo       False\n",
              "Propaganda    False\n",
              "Desconto      False\n",
              "Vendas        False\n",
              "dtype: bool"
            ]
          },
          "metadata": {
            "tags": []
          },
          "execution_count": 11
        }
      ]
    },
    {
      "cell_type": "markdown",
      "metadata": {
        "id": "V7vrDHjaJd-i",
        "colab_type": "text"
      },
      "source": [
        "Modelo de TReinamneto e teste"
      ]
    },
    {
      "cell_type": "code",
      "metadata": {
        "id": "bOyugszgJi01",
        "colab_type": "code",
        "colab": {}
      },
      "source": [
        "from sklearn.model_selection import train_test_split"
      ],
      "execution_count": 0,
      "outputs": []
    },
    {
      "cell_type": "code",
      "metadata": {
        "id": "xibPPjoDJlBf",
        "colab_type": "code",
        "colab": {}
      },
      "source": [
        "variaveis=['Propaganda' ,\t'Desconto']\n",
        "alvo=['Vendas']\n",
        "\n",
        "x= publicidade[variaveis].values\n",
        "y = publicidade[alvo].values"
      ],
      "execution_count": 0,
      "outputs": []
    },
    {
      "cell_type": "code",
      "metadata": {
        "id": "Htv1XIr5J8Vq",
        "colab_type": "code",
        "colab": {}
      },
      "source": [
        "split_test_size=0.30\n",
        "x_train, x_test, y_train, y_test=train_test_split(x,y,test_size=split_test_size, random_state=42)"
      ],
      "execution_count": 0,
      "outputs": []
    },
    {
      "cell_type": "code",
      "metadata": {
        "id": "xcKkqddhKCtr",
        "colab_type": "code",
        "colab": {
          "base_uri": "https://localhost:8080/",
          "height": 35
        },
        "outputId": "08790ebb-01c3-4156-8d09-4d24b6e90753"
      },
      "source": [
        "print(\"{0:0.2f}% na base de treinamento\".format((len(x_train)/len(publicidade.index))*100))"
      ],
      "execution_count": 16,
      "outputs": [
        {
          "output_type": "stream",
          "text": [
            "64.71% na base de treinamento\n"
          ],
          "name": "stdout"
        }
      ]
    },
    {
      "cell_type": "code",
      "metadata": {
        "id": "WEayKBenKNeb",
        "colab_type": "code",
        "colab": {
          "base_uri": "https://localhost:8080/",
          "height": 35
        },
        "outputId": "ebdee396-a436-4504-d770-5c26a80b2e22"
      },
      "source": [
        "from sklearn import linear_model\n",
        "\n",
        "modelo_linear= linear_model.LinearRegression()\n",
        "\n",
        "modelo_linear.fit(x_train,y_train.ravel())"
      ],
      "execution_count": 17,
      "outputs": [
        {
          "output_type": "execute_result",
          "data": {
            "text/plain": [
              "LinearRegression(copy_X=True, fit_intercept=True, n_jobs=None, normalize=False)"
            ]
          },
          "metadata": {
            "tags": []
          },
          "execution_count": 17
        }
      ]
    },
    {
      "cell_type": "code",
      "metadata": {
        "id": "adswgbuIKc0e",
        "colab_type": "code",
        "colab": {
          "base_uri": "https://localhost:8080/",
          "height": 35
        },
        "outputId": "376e38e9-d6c7-46d5-bce0-55b9ff584e94"
      },
      "source": [
        "from sklearn.metrics import mean_squared_error,r2_score\n",
        "\n",
        "y_pred= modelo_linear.predict(x_test)\n",
        "\n",
        "print('R^2 score: %.2f'% r2_score(y_test,y_pred))"
      ],
      "execution_count": 18,
      "outputs": [
        {
          "output_type": "stream",
          "text": [
            "R^2 score: 0.96\n"
          ],
          "name": "stdout"
        }
      ]
    }
  ]
}